{
  "nbformat": 4,
  "nbformat_minor": 0,
  "metadata": {
    "colab": {
      "provenance": []
    },
    "kernelspec": {
      "name": "python3",
      "display_name": "Python 3"
    },
    "language_info": {
      "name": "python"
    }
  },
  "cells": [
    {
      "cell_type": "code",
      "execution_count": 42,
      "metadata": {
        "id": "9w6WUtjuJf8K"
      },
      "outputs": [],
      "source": [
        "expr = 'e = a + b * (c - d)'"
      ]
    },
    {
      "cell_type": "code",
      "source": [
        "import re\n",
        "\n",
        "def tokenize(expr):\n",
        "  return re.findall(r'\\w+|[+\\-*/()=]', expr)\n",
        "\n",
        "print(tokenize(expr))"
      ],
      "metadata": {
        "colab": {
          "base_uri": "https://localhost:8080/"
        },
        "id": "kbFInl0YKTxT",
        "outputId": "3d9e0282-2b56-418f-f2ed-e26b8e550553"
      },
      "execution_count": 39,
      "outputs": [
        {
          "output_type": "stream",
          "name": "stdout",
          "text": [
            "['e', '=', 'a', '+', 'b', '*', '(', 'c', '-', 'd', ')']\n"
          ]
        }
      ]
    },
    {
      "cell_type": "code",
      "source": [
        "precedence = { '+': 1, '-': 1, '*': 2, '/': 2}\n",
        "\n",
        "def infix_to_postfix(tokens):\n",
        "  postfix, stack = [], []\n",
        "  for token in tokens:\n",
        "    if token.isalnum():\n",
        "      postfix.append(token)\n",
        "    elif token == '(':\n",
        "      stack.append(token)\n",
        "    elif token == ')':\n",
        "      while stack[-1] != '(':\n",
        "        postfix.append(stack.pop())\n",
        "      stack.pop()\n",
        "    else:\n",
        "      while stack and (precedence.get(stack[-1], 0) >= precedence.get(token, 0)):\n",
        "          postfix.append(stack.pop())\n",
        "      stack.append(token)\n",
        "  return postfix + stack[::-1]"
      ],
      "metadata": {
        "id": "Iyg21jPzJ4pL"
      },
      "execution_count": 23,
      "outputs": []
    },
    {
      "cell_type": "code",
      "source": [
        "def generate_tac(expr):\n",
        "  target, exp = expr.split('=')\n",
        "  tokens = tokenize(exp)\n",
        "  postfix = infix_to_postfix(tokens)\n",
        "  return postfix_to_tac(postfix, target)\n",
        "\n",
        "def postfix_to_tac(postfix, target):\n",
        "  temp_count = 0\n",
        "  code, stack = [], []\n",
        "  for token in postfix:\n",
        "    if token.isalnum():\n",
        "      #print(stack, code)\n",
        "      stack.append(token)\n",
        "    else:\n",
        "      #print(stack, code)\n",
        "      b, a = stack.pop(), stack.pop()\n",
        "      code.append(f'T{temp_count} = {a} {token} {b}')\n",
        "      stack.append(f'T{temp_count}')\n",
        "      temp_count += 1\n",
        "  code.append(f'{target} = {stack.pop()}')\n",
        "  return code\n",
        "\n",
        "codes = generate_tac(expr)\n",
        "for code in codes:\n",
        "  print(code)"
      ],
      "metadata": {
        "colab": {
          "base_uri": "https://localhost:8080/"
        },
        "id": "uxpBVAwQNW46",
        "outputId": "daa2dbc0-df08-46d5-d851-84a3cd90008a"
      },
      "execution_count": 37,
      "outputs": [
        {
          "output_type": "stream",
          "name": "stdout",
          "text": [
            "T0 = c - d\n",
            "T1 = b * T0\n",
            "T2 = a + T1\n",
            "e  = T2\n"
          ]
        }
      ]
    },
    {
      "cell_type": "code",
      "source": [
        "def generate_quad(expr):\n",
        "  target, exp = expr.split('=')\n",
        "  tokens = tokenize(exp)\n",
        "  postfix = infix_to_postfix(tokens)\n",
        "  return postfix_to_quad(postfix, target)\n",
        "\n",
        "def postfix_to_quad(postfix, target):\n",
        "  quadruples, stack = [], []\n",
        "  t_count = 0\n",
        "  for token in postfix:\n",
        "    if token.isalnum():\n",
        "      stack.append(token)\n",
        "    else:\n",
        "      b, a = stack.pop(), stack.pop()\n",
        "      quadruples.append([f'T{t_count}', token, a, b])\n",
        "      stack.append(f'T{t_count}')\n",
        "      t_count += 1\n",
        "  quadruples.append([target, '=', stack.pop(), ''])\n",
        "  return quadruples\n",
        "\n",
        "quads = generate_quad(expr)\n",
        "print(f'{\"Result\":<10}{\"Operator\":<10}{\"Operand1\":<10}{\"Operand2\":<10}')\n",
        "for quad in quads:\n",
        "  print(f'{quad[0]:<10}{quad[1]:<10}{quad[2]:<10}{quad[3]:<10}')"
      ],
      "metadata": {
        "colab": {
          "base_uri": "https://localhost:8080/"
        },
        "id": "SOQf3y5cPxQK",
        "outputId": "b00d0e5a-54c5-4931-f222-9eaf06e32039"
      },
      "execution_count": 47,
      "outputs": [
        {
          "output_type": "stream",
          "name": "stdout",
          "text": [
            "Result    Operator  Operand1  Operand2  \n",
            "T0        -         c         d         \n",
            "T1        *         b         T0        \n",
            "T2        +         a         T1        \n",
            "e         =         T2                  \n"
          ]
        }
      ]
    },
    {
      "cell_type": "code",
      "source": [
        "def generate_triples(expr):\n",
        "  target, exp = expr.split('=')\n",
        "  tokens = tokenize(exp)\n",
        "  postfix = infix_to_postfix(tokens)\n",
        "  return postfix_to_triples(postfix)\n",
        "\n",
        "def postfix_to_triples(postfix):\n",
        "  triples, stack = [], []\n",
        "  t_count = 0\n",
        "  for token in postfix:\n",
        "    if token.isalnum():\n",
        "      stack.append(token)\n",
        "    else:\n",
        "      b, a = stack.pop(), stack.pop()\n",
        "      triples.append([token, a, b])\n",
        "      stack.append(f'{t_count}')\n",
        "      t_count += 1\n",
        "  triples.append(['=', stack.pop(), ''])\n",
        "  return triples\n",
        "\n",
        "triples = generate_triples(expr)\n",
        "print(f'{\"Operator\":<10}{\"Operand1\":<10}{\"Operand2\":<10}')\n",
        "for triple in triples:\n",
        "  print(f'{triple[0]:<10}{triple[1]:<10}{triple[2]:<10}')"
      ],
      "metadata": {
        "colab": {
          "base_uri": "https://localhost:8080/"
        },
        "id": "gpQtck6wX7gW",
        "outputId": "8297b3e0-a94e-473e-ac1d-99b0505db280"
      },
      "execution_count": 53,
      "outputs": [
        {
          "output_type": "stream",
          "name": "stdout",
          "text": [
            "Operator  Operand1  Operand2  \n",
            "-         c         d         \n",
            "*         b         0         \n",
            "+         a         1         \n",
            "=         2                   \n"
          ]
        }
      ]
    },
    {
      "cell_type": "code",
      "source": [],
      "metadata": {
        "id": "SxZ989hHa8qM"
      },
      "execution_count": null,
      "outputs": []
    }
  ]
}