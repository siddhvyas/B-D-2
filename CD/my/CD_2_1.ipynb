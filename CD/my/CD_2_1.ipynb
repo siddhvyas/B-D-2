{
  "nbformat": 4,
  "nbformat_minor": 0,
  "metadata": {
    "colab": {
      "provenance": []
    },
    "kernelspec": {
      "name": "python3",
      "display_name": "Python 3"
    },
    "language_info": {
      "name": "python"
    }
  },
  "cells": [
    {
      "cell_type": "code",
      "execution_count": 1,
      "metadata": {
        "colab": {
          "base_uri": "https://localhost:8080/"
        },
        "id": "iuVjbZ_lji5P",
        "outputId": "f68d4f55-ef9b-4726-a898-24c8b213e425"
      },
      "outputs": [
        {
          "output_type": "stream",
          "name": "stdout",
          "text": [
            "int x = 5;\n",
            "float y;\n",
            "double z;\n",
            "x = x + 1;\n",
            "\n"
          ]
        }
      ],
      "source": [
        "import re\n",
        "\n",
        "code = ''\n",
        "with open('demo.txt', 'r') as file:\n",
        "  code = file.read()\n",
        "print(code)"
      ]
    },
    {
      "cell_type": "code",
      "source": [
        "declarations = re.findall(r'\\b(int|float|double|long|short|char)\\b\\s+(\\w+)\\s*(?:=\\s*[^;]*)?\\s*[;]', code)\n",
        "declarations"
      ],
      "metadata": {
        "colab": {
          "base_uri": "https://localhost:8080/"
        },
        "id": "kSBnYsqsuSIb",
        "outputId": "30ac327d-ddc6-4f87-c80c-8e724352e300"
      },
      "execution_count": 2,
      "outputs": [
        {
          "output_type": "execute_result",
          "data": {
            "text/plain": [
              "[('int', 'x'), ('float', 'y'), ('double', 'z')]"
            ]
          },
          "metadata": {},
          "execution_count": 2
        }
      ]
    },
    {
      "cell_type": "code",
      "source": [
        "code_upd = re.sub(r'\\b(int|float|double|long|short|char)\\b\\s+(\\w+)\\s*(?:=\\s*[^;]*)?\\s*[;]', '', code)\n",
        "print(code_upd)"
      ],
      "metadata": {
        "colab": {
          "base_uri": "https://localhost:8080/"
        },
        "id": "UShf5NBIv3Cn",
        "outputId": "e2905497-708d-48ae-9764-7131fe7defc8"
      },
      "execution_count": 3,
      "outputs": [
        {
          "output_type": "stream",
          "name": "stdout",
          "text": [
            "\n",
            "\n",
            "\n",
            "x = x + 1;\n",
            "\n"
          ]
        }
      ]
    },
    {
      "cell_type": "code",
      "source": [
        "vars = [[v, t, False] for v, t in declarations]\n",
        "vars"
      ],
      "metadata": {
        "colab": {
          "base_uri": "https://localhost:8080/"
        },
        "id": "dEondNUBwMU-",
        "outputId": "61e4d0b8-0f78-49a2-ea31-0f5b2549d6e5"
      },
      "execution_count": 9,
      "outputs": [
        {
          "output_type": "execute_result",
          "data": {
            "text/plain": [
              "[['int', 'x', False], ['float', 'y', False], ['double', 'z', False]]"
            ]
          },
          "metadata": {},
          "execution_count": 9
        }
      ]
    },
    {
      "cell_type": "code",
      "source": [
        "for var in vars:\n",
        "  if re.search(r'\\b'+re.escape(var[1])+r'\\b', code_upd):\n",
        "    var[2] = True\n",
        "vars"
      ],
      "metadata": {
        "colab": {
          "base_uri": "https://localhost:8080/"
        },
        "id": "mnQrGVEaw1rU",
        "outputId": "46aaf828-4366-492e-fc20-74cd6f36f236"
      },
      "execution_count": 10,
      "outputs": [
        {
          "output_type": "execute_result",
          "data": {
            "text/plain": [
              "[['int', 'x', True], ['float', 'y', False], ['double', 'z', False]]"
            ]
          },
          "metadata": {},
          "execution_count": 10
        }
      ]
    },
    {
      "cell_type": "code",
      "source": [],
      "metadata": {
        "id": "rMqBJ0JDxSOB"
      },
      "execution_count": null,
      "outputs": []
    }
  ]
}