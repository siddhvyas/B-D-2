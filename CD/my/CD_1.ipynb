{
  "nbformat": 4,
  "nbformat_minor": 0,
  "metadata": {
    "colab": {
      "provenance": []
    },
    "kernelspec": {
      "name": "python3",
      "display_name": "Python 3"
    },
    "language_info": {
      "name": "python"
    }
  },
  "cells": [
    {
      "cell_type": "code",
      "execution_count": 29,
      "metadata": {
        "colab": {
          "base_uri": "https://localhost:8080/",
          "height": 53
        },
        "id": "IZh8Cj3gx4xB",
        "outputId": "e72306d7-590e-4cdf-d60f-f3c78258277c"
      },
      "outputs": [
        {
          "output_type": "execute_result",
          "data": {
            "text/plain": [
              "'switch expression {\\ncase x:\\n   // code block\\ncase y:\\n   // code block\\ncase z:\\n   // code block\\ndefault:\\n   // code block\\n}'"
            ],
            "application/vnd.google.colaboratory.intrinsic+json": {
              "type": "string"
            }
          },
          "metadata": {},
          "execution_count": 29
        }
      ],
      "source": [
        "import re\n",
        "\n",
        "with open('code.txt', 'r') as file:\n",
        "  code = file.read()\n",
        "\n",
        "#code = code.replace('\\n', '')\n",
        "code"
      ]
    },
    {
      "cell_type": "code",
      "source": [
        "# if-elif-else\n",
        "if re.match(r'\\bif\\b\\s+.*?:\\n.*?(?:\\belif\\b\\s+.*?:\\n.*?)*?(?:\\belse\\b:.*?)*?', code): print('yes')\n",
        "else: print('no')"
      ],
      "metadata": {
        "colab": {
          "base_uri": "https://localhost:8080/"
        },
        "id": "cLYF-Zh206ET",
        "outputId": "7bbd5b64-11c7-4cea-e4c3-8aa6c265dcdb"
      },
      "execution_count": 22,
      "outputs": [
        {
          "output_type": "stream",
          "name": "stdout",
          "text": [
            "no\n"
          ]
        }
      ]
    },
    {
      "cell_type": "code",
      "source": [
        "# switch\n",
        "if re.findall(r'\\bswitch\\b\\s*\\(?.*?\\)?\\s*\\{(?:\\s*\\bcase\\b\\s+\\w+\\s*:\\s*.*?)*\\s*\\bdefault\\b\\s*:\\s*.*?\\}', code, re.DOTALL): print('yes')\n",
        "else: print('no')"
      ],
      "metadata": {
        "colab": {
          "base_uri": "https://localhost:8080/"
        },
        "id": "lSg9fwl62cTA",
        "outputId": "59a54379-8eeb-441d-dd81-f03c547c9e1b"
      },
      "execution_count": 33,
      "outputs": [
        {
          "output_type": "stream",
          "name": "stdout",
          "text": [
            "yes\n"
          ]
        }
      ]
    },
    {
      "cell_type": "code",
      "source": [
        "for_match = re.search(r'\\bfor\\s+.+\\s+in\\s+.+:', content)\n",
        "while_match = re.search(r'\\bwhile\\s+.+:', content)\n",
        "do_match = re.search(r'\\bdo\\s*\\{.*?\\}\\s*while\\s*\\(.*?\\)\\s*;', content, re.DOTALL)"
      ],
      "metadata": {
        "id": "KIjmu8o67qAt"
      },
      "execution_count": null,
      "outputs": []
    }
  ]
}