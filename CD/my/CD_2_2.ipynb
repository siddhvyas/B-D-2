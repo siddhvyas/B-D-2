{
  "nbformat": 4,
  "nbformat_minor": 0,
  "metadata": {
    "colab": {
      "provenance": []
    },
    "kernelspec": {
      "name": "python3",
      "display_name": "Python 3"
    },
    "language_info": {
      "name": "python"
    }
  },
  "cells": [
    {
      "cell_type": "code",
      "execution_count": 9,
      "metadata": {
        "id": "96rqgB-yWsUQ"
      },
      "outputs": [],
      "source": [
        "optab = {\n",
        "    \"MOV\": 0x10, \"ADD\": 0x20, \"SUB\": 0x30, \"JMP\": 0x40, \"HLT\": 0x60,\n",
        "    \"OUT\": 0x70, \"STO\": 0x80, \"DS\": 0x90, \"START\": -1, \"INP\": 0x14\n",
        "}\n",
        "\n",
        "symtab, instructions, loc = {}, [], 1000\n",
        "\n",
        "def parse(line):\n",
        "  global loc\n",
        "  parts = line.split()\n",
        "  if not parts: return\n",
        "\n",
        "  mnem, op = parts[0], parts[1] if len(parts) > 1 else \"\"\n",
        "\n",
        "  if mnem == \"START\" and op.isdigit():\n",
        "    loc = int(op)\n",
        "    return\n",
        "  if mnem not in optab:\n",
        "    return \"Invvalid opcode\"\n",
        "  if op and mnem not in ['DS', 'START']:\n",
        "    symtab.setdefault(mnem, loc+1)\n",
        "\n",
        "  instructions.append((mnem, op))\n",
        "  loc += 4"
      ]
    },
    {
      "cell_type": "code",
      "source": [
        "while (line := input()) != 'HLT':\n",
        "  parse(line)\n",
        "\n",
        "print(symtab)\n",
        "print(instructions)\n",
        "\n",
        "# print(\"\\nSymbol Table:\")\n",
        "# for sym, addr in symtab.items():\n",
        "#   print(f\"{sym} => {addr}\")\n",
        "\n",
        "# print(\"\\nOpcodes Used:\")\n",
        "# for op, arg in instructions:\n",
        "#   print(f\"{op} {arg} -> {hex(optab[op])}\")"
      ],
      "metadata": {
        "colab": {
          "base_uri": "https://localhost:8080/"
        },
        "id": "2fWsrjXXcQtg",
        "outputId": "468c9542-ed7a-4589-f1ca-a42e504f250b"
      },
      "execution_count": 12,
      "outputs": [
        {
          "output_type": "stream",
          "name": "stdout",
          "text": [
            "START 2000\n",
            "MOV A\n",
            "ADD B\n",
            "SUB A\n",
            "JMP END\n",
            "INP \"\"\n",
            "OUT \"\"\n",
            "HLT\n",
            "{'MOV': 2001, 'ADD': 2005, 'SUB': 2009, 'JMP': 2013, 'INP': 2017, 'OUT': 2021}\n",
            "[('MOV', 'A'), ('ADD', 'B'), ('SUB', 'A'), ('JMP', 'END'), ('INP', ''), ('OUT', ''), ('MOV', 'A'), ('ADD', 'B'), ('SUB', 'A'), ('JMP', 'END'), ('INP', '\"\"'), ('OUT', '\"\"')]\n",
            "\n",
            "Symbol Table:\n",
            "MOV => 2001\n",
            "ADD => 2005\n",
            "SUB => 2009\n",
            "JMP => 2013\n",
            "INP => 2017\n",
            "OUT => 2021\n",
            "\n",
            "Opcodes Used:\n",
            "MOV A -> 0x10\n",
            "ADD B -> 0x20\n",
            "SUB A -> 0x30\n",
            "JMP END -> 0x40\n",
            "INP  -> 0x14\n",
            "OUT  -> 0x70\n",
            "MOV A -> 0x10\n",
            "ADD B -> 0x20\n",
            "SUB A -> 0x30\n",
            "JMP END -> 0x40\n",
            "INP \"\" -> 0x14\n",
            "OUT \"\" -> 0x70\n"
          ]
        }
      ]
    },
    {
      "cell_type": "code",
      "source": [
        "print(\"\\nSymbol Table:\")\n",
        "for sym, addr in symtab.items():\n",
        "  print(f\"{sym} => {addr}\")\n",
        "\n",
        "print(\"\\nOpcodes Used:\")\n",
        "for op, arg in instructions:\n",
        "  print(f\"{op} {arg} -> {hex(optab[op])}\")"
      ],
      "metadata": {
        "colab": {
          "base_uri": "https://localhost:8080/"
        },
        "id": "fnpiHwsgm94L",
        "outputId": "c0cd6b63-beed-494e-d97c-9e696284444c"
      },
      "execution_count": 15,
      "outputs": [
        {
          "output_type": "stream",
          "name": "stdout",
          "text": [
            "\n",
            "Symbol Table:\n",
            "MOV => 2001\n",
            "ADD => 2005\n",
            "SUB => 2009\n",
            "JMP => 2013\n",
            "INP => 2017\n",
            "OUT => 2021\n",
            "\n",
            "Opcodes Used:\n",
            "MOV A -> 0x10\n",
            "ADD B -> 0x20\n",
            "SUB A -> 0x30\n",
            "JMP END -> 0x40\n",
            "INP  -> 0x14\n",
            "OUT  -> 0x70\n",
            "MOV A -> 0x10\n",
            "ADD B -> 0x20\n",
            "SUB A -> 0x30\n",
            "JMP END -> 0x40\n",
            "INP \"\" -> 0x14\n",
            "OUT \"\" -> 0x70\n"
          ]
        }
      ]
    },
    {
      "cell_type": "code",
      "source": [
        "def create_mnemonic_table(mnemonic_data):\n",
        "    print(\"Mnemonic Table:\")\n",
        "    print(\"{:<10} {:<40}\".format(\"Mnemonic\", \"Description\"))\n",
        "    print(\"-\" * 50)\n",
        "\n",
        "    for line in mnemonic_data:\n",
        "        parts = line.split(\",\")\n",
        "        if len(parts) == 2:\n",
        "            mnemonic = parts[0].strip()\n",
        "            description = parts[1].strip()\n",
        "            print(\"{:<10} {:<40}\".format(mnemonic, description))\n",
        "\n",
        "def create_symbol_table(symbol_data):\n",
        "    print(\"\\nSymbol Table:\")\n",
        "    print(\"{:<10} {:<10}\".format(\"Variable\", \"Value\"))\n",
        "    print(\"-\" * 20)\n",
        "\n",
        "    symbols = {}\n",
        "    for line in symbol_data:\n",
        "        parts = line.split(\",\")\n",
        "        if len(parts) == 2:\n",
        "            variable = parts[0].strip()\n",
        "            value = int(parts[1].strip())\n",
        "            symbols[variable] = value\n",
        "            print(\"{:<10} {:<10}\".format(variable, value))\n",
        "\n",
        "    return symbols\n",
        "\n",
        "def read_file(filename):\n",
        "    with open(filename, 'r') as file:\n",
        "        content = file.readlines()\n",
        "\n",
        "    mnemonic_data = []\n",
        "    symbol_data = []\n",
        "\n",
        "    # Parse the content of the file\n",
        "    current_section = None\n",
        "\n",
        "    for line in content:\n",
        "        line = line.strip()\n",
        "        if line.startswith(\"#\"):\n",
        "            current_section = line[1:].strip()  # Get section name without '#'\n",
        "        elif line:  # If it's not an empty line\n",
        "            if current_section == \"Mnemonics\":\n",
        "                mnemonic_data.append(line)\n",
        "            elif current_section == \"Symbols\":\n",
        "                symbol_data.append(line)\n",
        "\n",
        "    return mnemonic_data, symbol_data\n",
        "\n",
        "def perform_addition(symbols):\n",
        "    # Simulate loading values from symbols A and B\n",
        "    reg_a = symbols['A']\n",
        "    reg_b = symbols['B']\n",
        "\n",
        "    # Perform addition\n",
        "    result = reg_a + reg_b\n",
        "\n",
        "    # Store result in RESULT variable\n",
        "    symbols['RESULT'] = result\n",
        "\n",
        "    return result\n",
        "\n",
        "def main():\n",
        "    filename = \"data.txt\"  # Specify your file name here\n",
        "    mnemonic_data, symbol_data = read_file(filename)\n",
        "\n",
        "    create_mnemonic_table(mnemonic_data)\n",
        "    symbols = create_symbol_table(symbol_data)\n",
        "\n",
        "    # Perform addition of A and B\n",
        "    result = perform_addition(symbols)\n",
        "\n",
        "    print(f\"\\nThe sum of A and B is: {result}\")\n",
        "    print(f\"Stored in RESULT: {symbols['RESULT']}\")\n",
        "\n",
        "if __name__ == \"__main__\":\n",
        "    main()\n"
      ],
      "metadata": {
        "colab": {
          "base_uri": "https://localhost:8080/"
        },
        "id": "p8tWv23jWylK",
        "outputId": "49d5a5aa-155e-42ec-ae47-2fa4e03b81f2"
      },
      "execution_count": 3,
      "outputs": [
        {
          "output_type": "stream",
          "name": "stdout",
          "text": [
            "Mnemonic Table:\n",
            "Mnemonic   Description                             \n",
            "--------------------------------------------------\n",
            "LOAD       Load value into register                \n",
            "ADD        Add two registers                       \n",
            "STORE      Store value into memory                 \n",
            "\n",
            "Symbol Table:\n",
            "Variable   Value     \n",
            "--------------------\n",
            "A          5         \n",
            "B          10        \n",
            "RESULT     0         \n",
            "\n",
            "The sum of A and B is: 15\n",
            "Stored in RESULT: 15\n"
          ]
        }
      ]
    },
    {
      "cell_type": "code",
      "source": [],
      "metadata": {
        "id": "CARzJfOZcOdy"
      },
      "execution_count": null,
      "outputs": []
    }
  ]
}