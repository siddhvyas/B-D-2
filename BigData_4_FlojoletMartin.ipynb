{
  "nbformat": 4,
  "nbformat_minor": 0,
  "metadata": {
    "colab": {
      "provenance": []
    },
    "kernelspec": {
      "name": "python3",
      "display_name": "Python 3"
    },
    "language_info": {
      "name": "python"
    }
  },
  "cells": [
    {
      "cell_type": "code",
      "execution_count": null,
      "metadata": {
        "id": "biqtUY0GwQyu"
      },
      "outputs": [],
      "source": [
        "import pandas as pd\n",
        "\n",
        "hash1 = lambda x: (3 * x + 1) % 5\n",
        "hash2 = lambda x: (x + 3) % 5\n",
        "numbers = [1,3,2,1,2,3,4,3,1]\n",
        "\n",
        "def dec_to_binary(x):\n",
        "  return format(x, 'b').zfill(2)\n",
        "\n",
        "def CountTrailingZeros(n):\n",
        "    bit = bin(n)[2:]\n",
        "    bit = bit[::-1]\n",
        "    zero = 0;\n",
        "    for i in range(len(bit)):\n",
        "        if (bit[i] == '0'):\n",
        "            zero += 1\n",
        "        else:\n",
        "            break\n",
        "    return zero"
      ]
    },
    {
      "cell_type": "code",
      "source": [
        "df = {'Number': numbers, 'Hash1': [hash1(x) for x in numbers], 'Hash2': [hash2(x) for x in numbers]}\n",
        "df['Binary1'] = [dec_to_binary(x) for x in df['Hash1']]\n",
        "df['Binary2'] = [dec_to_binary(x) for x in df['Hash2']]\n",
        "df['r1'] = [CountTrailingZeros(int(x,2)) for x in df['Binary1']]\n",
        "df['r2'] = [CountTrailingZeros(int(x,2)) for x in df['Binary2']]\n",
        "print(pd.DataFrame(df))\n",
        "df['r1'] = pd.Series(df['r1'])\n",
        "df['r2'] = pd.Series(df['r2'])\n",
        "r1max = df['r1'].max()\n",
        "r2max = df['r2'].max()\n",
        "R = max(r1max, r2max)\n",
        "result = 2**R\n",
        "print(\"Maximum value of r1:\", r1max)\n",
        "print(\"Maximum value of r2:\", r2max)\n",
        "print(f\"Estimated number of distinct elements: {result}\")"
      ],
      "metadata": {
        "colab": {
          "base_uri": "https://localhost:8080/"
        },
        "id": "Ld9PgRcLwX2D",
        "outputId": "ba5f2d5d-a24b-4646-bb34-a115fa7e4f3f"
      },
      "execution_count": null,
      "outputs": [
        {
          "output_type": "stream",
          "name": "stdout",
          "text": [
            "   Number  Hash1  Hash2 Binary1 Binary2  r1  r2\n",
            "0       1      4      4     100     100   2   2\n",
            "1       3      0      1      00      01   1   0\n",
            "2       2      2      0      10      00   1   1\n",
            "3       1      4      4     100     100   2   2\n",
            "4       2      2      0      10      00   1   1\n",
            "5       3      0      1      00      01   1   0\n",
            "6       4      3      2      11      10   0   1\n",
            "7       3      0      1      00      01   1   0\n",
            "8       1      4      4     100     100   2   2\n",
            "Maximum value of r1: 2\n",
            "Maximum value of r2: 2\n",
            "Estimated number of distinct elements: 4\n"
          ]
        }
      ]
    }
  ]
}