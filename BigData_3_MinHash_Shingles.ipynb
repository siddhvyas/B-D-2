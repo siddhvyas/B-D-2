{
  "nbformat": 4,
  "nbformat_minor": 0,
  "metadata": {
    "colab": {
      "provenance": []
    },
    "kernelspec": {
      "name": "python3",
      "display_name": "Python 3"
    },
    "language_info": {
      "name": "python"
    }
  },
  "cells": [
    {
      "cell_type": "code",
      "execution_count": null,
      "metadata": {
        "colab": {
          "base_uri": "https://localhost:8080/"
        },
        "id": "3y7UuS8IXCji",
        "outputId": "e8b24d02-9ffe-46f3-8a72-e9c45440cc56"
      },
      "outputs": [
        {
          "output_type": "stream",
          "name": "stdout",
          "text": [
            "[['Lorem', 'ipsum', 'dolor'], ['ipsum', 'dolor', 'sit'], ['dolor', 'sit', 'amet,'], ['sit', 'amet,', 'consectetur'], ['amet,', 'consectetur', 'adipiscing'], ['consectetur', 'adipiscing', 'elit.'], ['adipiscing', 'elit.', 'Nam'], ['elit.', 'Nam', 'feugiat'], ['Nam', 'feugiat', 'dolor'], ['feugiat', 'dolor', 'ultricies,'], ['dolor', 'ultricies,', 'feugiat'], ['ultricies,', 'feugiat', 'est'], ['feugiat', 'est', 'et,'], ['est', 'et,', 'imperdiet'], ['et,', 'imperdiet', 'nisl.'], ['imperdiet', 'nisl.', 'Mauris'], ['nisl.', 'Mauris', 'elementum'], ['Mauris', 'elementum', 'non'], ['elementum', 'non', 'massa'], ['non', 'massa', 'vitae'], ['massa', 'vitae', 'suscipit.'], ['vitae', 'suscipit.', 'Aenean'], ['suscipit.', 'Aenean', 'mauris'], ['Aenean', 'mauris', 'risus,'], ['mauris', 'risus,', 'ultricies'], ['risus,', 'ultricies', 'vel'], ['ultricies', 'vel', 'lectus'], ['vel', 'lectus', 'in,'], ['lectus', 'in,', 'laoreet'], ['in,', 'laoreet', 'consequat'], ['laoreet', 'consequat', 'lectus.'], ['consequat', 'lectus.', 'Suspendisse'], ['lectus.', 'Suspendisse', 'eget'], ['Suspendisse', 'eget', 'finibus'], ['eget', 'finibus', 'odio,'], ['finibus', 'odio,', 'eget'], ['odio,', 'eget', 'blandit'], ['eget', 'blandit', 'urna.'], ['blandit', 'urna.', 'Vivamus'], ['urna.', 'Vivamus', 'mattis'], ['Vivamus', 'mattis', 'venenatis'], ['mattis', 'venenatis', 'risus'], ['venenatis', 'risus', 'ac'], ['risus', 'ac', 'blandit.'], ['ac', 'blandit.', 'Donec'], ['blandit.', 'Donec', 'a'], ['Donec', 'a', 'ornare'], ['a', 'ornare', 'ligula.'], ['ornare', 'ligula.', 'Aliquam'], ['ligula.', 'Aliquam', 'erat'], ['Aliquam', 'erat', 'volutpat.'], ['erat', 'volutpat.', 'Sed'], ['volutpat.', 'Sed', 'rutrum'], ['Sed', 'rutrum', 'dolor'], ['rutrum', 'dolor', 'ac'], ['dolor', 'ac', 'mauris'], ['ac', 'mauris', 'mollis'], ['mauris', 'mollis', 'fringilla.'], ['mollis', 'fringilla.', 'Donec'], ['fringilla.', 'Donec', 'nibh'], ['Donec', 'nibh', 'nibh,'], ['nibh', 'nibh,', 'consequat'], ['nibh,', 'consequat', 'sed'], ['consequat', 'sed', 'lacus'], ['sed', 'lacus', 'non,'], ['lacus', 'non,', 'blandit'], ['non,', 'blandit', 'lacinia'], ['blandit', 'lacinia', 'ante.'], ['lacinia', 'ante.', 'Curabitur'], ['ante.', 'Curabitur', 'sit'], ['Curabitur', 'sit', 'amet'], ['sit', 'amet', 'eleifend']]\n"
          ]
        }
      ],
      "source": [
        "with open('/content/sample_data/shingles.txt', 'r') as file:\n",
        "  file_content = file.read()\n",
        "shingling = file_content.split()\n",
        "length = 3\n",
        "shingles = [shingling[i:i+length] for i in range(len(shingling) - length) if len(shingling[i])]\n",
        "print(shingles)"
      ]
    },
    {
      "cell_type": "code",
      "source": [
        "import os\n",
        "\n",
        "def create_shingles(filepath, length=3):\n",
        "  try:\n",
        "    with open(filepath, 'r') as file:\n",
        "      file_content = file.read()\n",
        "  except FileNotFoundError:\n",
        "    print(f\"Error: File not found at {filepath}\")\n",
        "    return []\n",
        "\n",
        "  shingling = file_content.split()\n",
        "  shingles = [shingling[i:i+length] for i in range(len(shingling) - length + 1) if len(shingling[i:i+length]) == length]\n",
        "  return shingles\n",
        "\n",
        "all_shingles = []\n",
        "shingles_list = []\n",
        "file_paths = ['/content/sample_data/shingles1.txt', '/content/sample_data/shingles2.txt', '/content/sample_data/shingles3.txt']\n",
        "for file_path in file_paths:\n",
        "    if os.path.exists(file_path):\n",
        "        shingles = create_shingles(file_path)\n",
        "        shingles_list.append(shingles)\n",
        "        all_shingles.extend(shingles)\n",
        "        # print(f\"Shingles for {file_path}: {shingles}\")\n",
        "    else:\n",
        "        print(f\"File not found: {file_path}\")\n",
        "\n",
        "# print(len(all_shingles))\n",
        "# print(len(shingles_list))\n",
        "\n",
        "all_shingles_set = set(tuple(x) for x in all_shingles)\n",
        "# len(all_shingles_set)"
      ],
      "metadata": {
        "colab": {
          "base_uri": "https://localhost:8080/"
        },
        "id": "2PzNnhPJbRbs",
        "outputId": "018db302-e39b-4aa7-ac7e-46cecfbdcf31"
      },
      "execution_count": null,
      "outputs": [
        {
          "output_type": "stream",
          "name": "stdout",
          "text": [
            "3\n"
          ]
        }
      ]
    },
    {
      "cell_type": "code",
      "source": [
        "incidence_matrix = []\n",
        "for i in range(len(all_shingles)):\n",
        "  mat_row = [0, 0, 0]\n",
        "  for j in range(len(file_paths)):\n",
        "    if all_shingles[i] in shingles_list[j]:\n",
        "      mat_row[j] = 1\n",
        "  incidence_matrix.append(mat_row)\n",
        "print(incidence_matrix)"
      ],
      "metadata": {
        "colab": {
          "base_uri": "https://localhost:8080/"
        },
        "id": "GzGf__q_gmCq",
        "outputId": "06c82006-856a-43ea-f98f-f2a80573b5e2"
      },
      "execution_count": null,
      "outputs": [
        {
          "output_type": "stream",
          "name": "stdout",
          "text": [
            "[[1, 0, 0], [1, 0, 0], [1, 0, 0], [1, 0, 0], [1, 0, 0], [1, 0, 0], [1, 0, 0], [1, 0, 0], [1, 0, 0], [1, 0, 0], [1, 0, 0], [1, 0, 0], [1, 0, 0], [1, 0, 0], [1, 0, 0], [1, 0, 0], [1, 0, 0], [1, 0, 0], [1, 0, 0], [1, 0, 0], [1, 0, 0], [1, 0, 0], [1, 0, 0], [1, 0, 0], [1, 0, 0], [1, 0, 0], [1, 0, 0], [1, 0, 0], [1, 0, 0], [1, 0, 0], [1, 0, 0], [1, 0, 0], [1, 0, 0], [1, 1, 0], [1, 1, 0], [1, 1, 0], [1, 1, 0], [1, 1, 0], [1, 1, 0], [1, 1, 0], [1, 1, 0], [1, 1, 0], [1, 1, 0], [1, 1, 0], [1, 1, 0], [1, 1, 0], [1, 1, 0], [1, 1, 0], [1, 1, 0], [1, 1, 0], [1, 1, 0], [1, 0, 0], [1, 0, 0], [1, 0, 0], [1, 0, 0], [1, 0, 0], [1, 0, 0], [1, 0, 0], [1, 0, 0], [1, 0, 0], [1, 0, 0], [1, 0, 0], [1, 0, 0], [1, 0, 0], [1, 0, 0], [1, 0, 0], [1, 0, 0], [1, 0, 0], [1, 0, 0], [1, 0, 0], [1, 0, 0], [1, 0, 0], [1, 0, 0], [1, 1, 0], [1, 1, 0], [1, 1, 0], [1, 1, 0], [1, 1, 0], [1, 1, 0], [1, 1, 0], [1, 1, 0], [1, 1, 0], [1, 1, 0], [1, 1, 0], [1, 1, 0], [1, 1, 0], [1, 1, 0], [1, 1, 0], [1, 1, 0], [1, 1, 0], [1, 1, 0], [0, 1, 0], [0, 1, 0], [0, 1, 1], [0, 1, 1], [0, 1, 1], [0, 1, 1], [0, 1, 0], [0, 1, 0], [0, 1, 0], [0, 1, 0], [0, 1, 0], [0, 1, 0], [0, 1, 0], [0, 1, 0], [0, 1, 0], [0, 1, 0], [0, 1, 1], [0, 1, 1], [0, 1, 1], [0, 1, 1], [0, 1, 1], [0, 1, 1], [0, 1, 1], [0, 1, 1], [0, 1, 1], [0, 1, 1], [0, 1, 1], [0, 1, 1], [0, 1, 1], [0, 1, 1], [0, 1, 1], [0, 1, 1], [0, 1, 1], [0, 1, 1], [0, 1, 1], [0, 1, 1], [0, 1, 1], [0, 1, 1], [0, 1, 1], [0, 1, 1], [0, 1, 1], [0, 1, 1], [0, 1, 1], [0, 1, 1], [0, 1, 1], [0, 1, 1], [0, 1, 1], [0, 1, 1], [0, 1, 1], [0, 1, 1], [0, 0, 1], [0, 0, 1], [0, 0, 1], [0, 0, 1], [0, 0, 1], [0, 0, 1], [0, 0, 1], [0, 0, 1], [0, 0, 1], [0, 0, 1], [0, 0, 1], [0, 0, 1], [0, 0, 1], [0, 0, 1], [0, 0, 1], [0, 0, 1], [0, 0, 1], [0, 0, 1], [0, 0, 1], [0, 0, 1], [0, 0, 1], [0, 0, 1], [0, 1, 1], [0, 1, 1], [0, 1, 1], [0, 1, 1], [0, 0, 1], [0, 0, 1], [0, 1, 1], [0, 1, 1], [0, 1, 1], [0, 1, 1], [0, 1, 1], [0, 1, 1], [0, 1, 1], [0, 1, 1], [0, 1, 1], [0, 1, 1], [0, 1, 1], [0, 1, 1], [0, 1, 1], [0, 1, 1], [0, 1, 1], [0, 1, 1], [0, 1, 1], [0, 1, 1], [0, 1, 1], [0, 1, 1], [0, 1, 1], [0, 1, 1], [0, 1, 1], [0, 1, 1], [0, 1, 1], [0, 1, 1], [0, 1, 1], [0, 1, 1], [0, 1, 1], [0, 1, 1], [0, 1, 1], [0, 1, 1], [0, 1, 1], [0, 1, 1]]\n"
          ]
        }
      ]
    },
    {
      "cell_type": "code",
      "source": [
        "def get_hash1(x):\n",
        "  return (2*x+1) % 61\n",
        "\n",
        "def get_hash2(x):\n",
        "  return (x+5) % 61\n",
        "\n",
        "hash_matrix = []\n",
        "for i in range(len(all_shingles)):\n",
        "  mat_row = [get_hash1(i), get_hash2(i)]\n",
        "  hash_matrix.append(mat_row)\n",
        "print(hash_matrix)"
      ],
      "metadata": {
        "colab": {
          "base_uri": "https://localhost:8080/"
        },
        "id": "MgJp7ZsilU99",
        "outputId": "bc1120be-1e9d-4505-d842-dd7e36b1b9ff"
      },
      "execution_count": null,
      "outputs": [
        {
          "output_type": "stream",
          "name": "stdout",
          "text": [
            "[[1, 5], [3, 6], [5, 7], [7, 8], [9, 9], [11, 10], [13, 11], [15, 12], [17, 13], [19, 14], [21, 15], [23, 16], [25, 17], [27, 18], [29, 19], [31, 20], [33, 21], [35, 22], [37, 23], [39, 24], [41, 25], [43, 26], [45, 27], [47, 28], [49, 29], [51, 30], [53, 31], [55, 32], [57, 33], [59, 34], [0, 35], [2, 36], [4, 37], [6, 38], [8, 39], [10, 40], [12, 41], [14, 42], [16, 43], [18, 44], [20, 45], [22, 46], [24, 47], [26, 48], [28, 49], [30, 50], [32, 51], [34, 52], [36, 53], [38, 54], [40, 55], [42, 56], [44, 57], [46, 58], [48, 59], [50, 60], [52, 0], [54, 1], [56, 2], [58, 3], [60, 4], [1, 5], [3, 6], [5, 7], [7, 8], [9, 9], [11, 10], [13, 11], [15, 12], [17, 13], [19, 14], [21, 15], [23, 16], [25, 17], [27, 18], [29, 19], [31, 20], [33, 21], [35, 22], [37, 23], [39, 24], [41, 25], [43, 26], [45, 27], [47, 28], [49, 29], [51, 30], [53, 31], [55, 32], [57, 33], [59, 34], [0, 35], [2, 36], [4, 37], [6, 38], [8, 39], [10, 40], [12, 41], [14, 42], [16, 43], [18, 44], [20, 45], [22, 46], [24, 47], [26, 48], [28, 49], [30, 50], [32, 51], [34, 52], [36, 53], [38, 54], [40, 55], [42, 56], [44, 57], [46, 58], [48, 59], [50, 60], [52, 0], [54, 1], [56, 2], [58, 3], [60, 4], [1, 5], [3, 6], [5, 7], [7, 8], [9, 9], [11, 10], [13, 11], [15, 12], [17, 13], [19, 14], [21, 15], [23, 16], [25, 17], [27, 18], [29, 19], [31, 20], [33, 21], [35, 22], [37, 23], [39, 24], [41, 25], [43, 26], [45, 27], [47, 28], [49, 29], [51, 30], [53, 31], [55, 32], [57, 33], [59, 34], [0, 35], [2, 36], [4, 37], [6, 38], [8, 39], [10, 40], [12, 41], [14, 42], [16, 43], [18, 44], [20, 45], [22, 46], [24, 47], [26, 48], [28, 49], [30, 50], [32, 51], [34, 52], [36, 53], [38, 54], [40, 55], [42, 56], [44, 57], [46, 58], [48, 59], [50, 60], [52, 0], [54, 1], [56, 2], [58, 3], [60, 4], [1, 5], [3, 6], [5, 7], [7, 8], [9, 9], [11, 10], [13, 11], [15, 12], [17, 13], [19, 14], [21, 15], [23, 16], [25, 17], [27, 18], [29, 19], [31, 20], [33, 21], [35, 22], [37, 23], [39, 24]]\n"
          ]
        }
      ]
    },
    {
      "cell_type": "code",
      "source": [
        "# incidence_matrix = [\n",
        "#     [0, 1, 0, 1],\n",
        "#     [0, 1, 0, 0],\n",
        "#     [1, 0, 0, 1],\n",
        "#     [0, 0, 1, 0],\n",
        "#     [0, 0, 1, 1],\n",
        "#     [1, 0, 0, 0]\n",
        "# ]\n",
        "\n",
        "# hash_matrix = [\n",
        "#     [1, 5],\n",
        "#     [2, 0],\n",
        "#     [3, 1],\n",
        "#     [4, 2],\n",
        "#     [5, 3],\n",
        "#     [0, 4]\n",
        "# ]"
      ],
      "metadata": {
        "id": "DB_idBGqpfrx"
      },
      "execution_count": null,
      "outputs": []
    },
    {
      "cell_type": "code",
      "source": [
        "signature_mat = [[0, 0, 0, 0], [0, 0, 0, 0]]\n",
        "\n",
        "for i in range(len(signature_mat)):\n",
        "  for j in range(len(incidence_matrix[0])):\n",
        "    if incidence_matrix[i][j] == 1:\n",
        "      signature_mat[i][0] += 1\n",
        "    else:\n",
        "      signature_mat[i][1] += 1\n",
        "\n",
        "print(signature_mat)"
      ],
      "metadata": {
        "colab": {
          "base_uri": "https://localhost:8080/"
        },
        "id": "dZ5IPT0MnRf4",
        "outputId": "a26aa6cd-31b7-4d5e-adaa-cc96d2a5b53d"
      },
      "execution_count": null,
      "outputs": [
        {
          "output_type": "stream",
          "name": "stdout",
          "text": [
            "[[2, 2, 0, 0], [1, 3, 0, 0]]\n"
          ]
        }
      ]
    }
  ]
}