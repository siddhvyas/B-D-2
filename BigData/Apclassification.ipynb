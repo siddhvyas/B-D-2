{
  "nbformat": 4,
  "nbformat_minor": 0,
  "metadata": {
    "colab": {
      "provenance": []
    },
    "kernelspec": {
      "name": "python3",
      "display_name": "Python 3"
    },
    "language_info": {
      "name": "python"
    }
  },
  "cells": [
    {
      "cell_type": "code",
      "execution_count": null,
      "metadata": {
        "id": "W4zPD2NkPQgB"
      },
      "outputs": [],
      "source": [
        "from pyspark.sql import SparkSession\n",
        "from pyspark.sql.types import *"
      ]
    },
    {
      "cell_type": "code",
      "source": [
        "spark = SparkSession.builder.master(\"local[1]\") \\\n",
        "                    .appName('SparkByExamples.com') \\\n",
        "                    .getOrCreate()"
      ],
      "metadata": {
        "id": "mKireSs8PY83"
      },
      "execution_count": null,
      "outputs": []
    },
    {
      "cell_type": "code",
      "source": [
        "data = spark.read.option(\"header\",True) \\\n",
        "     .csv(\"/content/diabetes.csv\")"
      ],
      "metadata": {
        "id": "p4TiyPg0Pcml"
      },
      "execution_count": null,
      "outputs": []
    },
    {
      "cell_type": "code",
      "source": [
        "data.printSchema()"
      ],
      "metadata": {
        "colab": {
          "base_uri": "https://localhost:8080/"
        },
        "id": "XUv_wiE_QHhl",
        "outputId": "8c1ec36b-ba3f-432d-9533-e1c71002830e"
      },
      "execution_count": null,
      "outputs": [
        {
          "output_type": "stream",
          "name": "stdout",
          "text": [
            "root\n",
            " |-- Pregnancies: string (nullable = true)\n",
            " |-- Glucose: string (nullable = true)\n",
            " |-- BloodPressure: string (nullable = true)\n",
            " |-- SkinThickness: string (nullable = true)\n",
            " |-- Insulin: string (nullable = true)\n",
            " |-- BMI: string (nullable = true)\n",
            " |-- DiabetesPedigreeFunction: string (nullable = true)\n",
            " |-- Age: string (nullable = true)\n",
            " |-- Outcome: string (nullable = true)\n",
            "\n"
          ]
        }
      ]
    },
    {
      "cell_type": "code",
      "source": [
        "from pyspark.sql.functions import col, cast"
      ],
      "metadata": {
        "id": "tw-sgJygP8xU"
      },
      "execution_count": null,
      "outputs": []
    },
    {
      "cell_type": "code",
      "source": [
        "data.schema"
      ],
      "metadata": {
        "colab": {
          "base_uri": "https://localhost:8080/"
        },
        "id": "72TnpGZqRsLJ",
        "outputId": "8a534bf4-9571-4cd3-fbb9-295b7f1789df"
      },
      "execution_count": null,
      "outputs": [
        {
          "output_type": "execute_result",
          "data": {
            "text/plain": [
              "StructType([StructField('Pregnancies', StringType(), True), StructField('Glucose', StringType(), True), StructField('BloodPressure', StringType(), True), StructField('SkinThickness', StringType(), True), StructField('Insulin', StringType(), True), StructField('BMI', StringType(), True), StructField('DiabetesPedigreeFunction', StringType(), True), StructField('Age', StringType(), True), StructField('Outcome', StringType(), True)])"
            ]
          },
          "metadata": {},
          "execution_count": 11
        }
      ]
    },
    {
      "cell_type": "code",
      "source": [
        "columns_to_convert =list(data.columns)\n",
        "print(columns_to_convert)"
      ],
      "metadata": {
        "colab": {
          "base_uri": "https://localhost:8080/"
        },
        "id": "OEw5NAdASHip",
        "outputId": "d040a450-5267-4590-d354-4d5ec76f006f"
      },
      "execution_count": null,
      "outputs": [
        {
          "output_type": "stream",
          "name": "stdout",
          "text": [
            "['Pregnancies', 'Glucose', 'BloodPressure', 'SkinThickness', 'Insulin', 'BMI', 'DiabetesPedigreeFunction', 'Age', 'Outcome']\n"
          ]
        }
      ]
    },
    {
      "cell_type": "code",
      "source": [
        "for column in columns_to_convert:\n",
        "    data = data.withColumn(column, col(column).cast('float'))"
      ],
      "metadata": {
        "id": "6sE58t_gSTLU"
      },
      "execution_count": null,
      "outputs": []
    },
    {
      "cell_type": "code",
      "source": [
        "data.printSchema()"
      ],
      "metadata": {
        "colab": {
          "base_uri": "https://localhost:8080/"
        },
        "id": "k6lFzkxBSjAh",
        "outputId": "a4900967-9b0d-4db6-9af8-21c91f8f8230"
      },
      "execution_count": null,
      "outputs": [
        {
          "output_type": "stream",
          "name": "stdout",
          "text": [
            "root\n",
            " |-- Pregnancies: float (nullable = true)\n",
            " |-- Glucose: float (nullable = true)\n",
            " |-- BloodPressure: float (nullable = true)\n",
            " |-- SkinThickness: float (nullable = true)\n",
            " |-- Insulin: float (nullable = true)\n",
            " |-- BMI: float (nullable = true)\n",
            " |-- DiabetesPedigreeFunction: float (nullable = true)\n",
            " |-- Age: float (nullable = true)\n",
            " |-- Outcome: float (nullable = true)\n",
            "\n"
          ]
        }
      ]
    },
    {
      "cell_type": "code",
      "source": [
        "to_median = list(data.columns)\n",
        "to_median.remove(\"Pregnancies\")\n",
        "to_median.remove(\"Outcome\")\n",
        "print(to_median)"
      ],
      "metadata": {
        "colab": {
          "base_uri": "https://localhost:8080/"
        },
        "id": "-TP3l2BwSmbi",
        "outputId": "6458e594-e2a9-4dde-b70d-836256957c9f"
      },
      "execution_count": null,
      "outputs": [
        {
          "output_type": "stream",
          "name": "stdout",
          "text": [
            "['Glucose', 'BloodPressure', 'SkinThickness', 'Insulin', 'BMI', 'DiabetesPedigreeFunction', 'Age']\n"
          ]
        }
      ]
    },
    {
      "cell_type": "code",
      "source": [
        "from pyspark.sql.functions import when, col\n",
        "for column in to_median:\n",
        "    data = data.withColumn(column, when(col(column) == 0, None).otherwise(col(column)))\n",
        "data.show(10)"
      ],
      "metadata": {
        "colab": {
          "base_uri": "https://localhost:8080/"
        },
        "id": "ueJruiQtT140",
        "outputId": "ec0b57d4-1133-4d78-9c76-b2e705f6d3c1"
      },
      "execution_count": null,
      "outputs": [
        {
          "output_type": "stream",
          "name": "stdout",
          "text": [
            "+-----------+-------+-------------+-------------+-------+----+------------------------+----+-------+\n",
            "|Pregnancies|Glucose|BloodPressure|SkinThickness|Insulin| BMI|DiabetesPedigreeFunction| Age|Outcome|\n",
            "+-----------+-------+-------------+-------------+-------+----+------------------------+----+-------+\n",
            "|        6.0|  148.0|         72.0|         35.0|   NULL|33.6|                   0.627|50.0|    1.0|\n",
            "|        1.0|   85.0|         66.0|         29.0|   NULL|26.6|                   0.351|31.0|    0.0|\n",
            "|        8.0|  183.0|         64.0|         NULL|   NULL|23.3|                   0.672|32.0|    1.0|\n",
            "|        1.0|   89.0|         66.0|         23.0|   94.0|28.1|                   0.167|21.0|    0.0|\n",
            "|        0.0|  137.0|         40.0|         35.0|  168.0|43.1|                   2.288|33.0|    1.0|\n",
            "|        5.0|  116.0|         74.0|         NULL|   NULL|25.6|                   0.201|30.0|    0.0|\n",
            "|        3.0|   78.0|         50.0|         32.0|   88.0|31.0|                   0.248|26.0|    1.0|\n",
            "|       10.0|  115.0|         NULL|         NULL|   NULL|35.3|                   0.134|29.0|    0.0|\n",
            "|        2.0|  197.0|         70.0|         45.0|  543.0|30.5|                   0.158|53.0|    1.0|\n",
            "|        8.0|  125.0|         96.0|         NULL|   NULL|NULL|                   0.232|54.0|    1.0|\n",
            "+-----------+-------+-------------+-------------+-------+----+------------------------+----+-------+\n",
            "only showing top 10 rows\n",
            "\n"
          ]
        }
      ]
    },
    {
      "cell_type": "code",
      "source": [
        "from pyspark.sql.functions import col, when, isnull, lit, median\n",
        "for column in to_median:\n",
        "    median_val = data.approxQuantile(column, [0.5], 0.25)[0]\n",
        "    data = data.withColumn(column, when(col(column).isNull(), lit(median_val)).otherwise(col(column)))\n",
        "data.show(50)"
      ],
      "metadata": {
        "colab": {
          "base_uri": "https://localhost:8080/"
        },
        "id": "0JGF82PjUaEB",
        "outputId": "8de2626c-2fcf-4f05-e9ed-786f378139e0"
      },
      "execution_count": null,
      "outputs": [
        {
          "output_type": "stream",
          "name": "stdout",
          "text": [
            "+-----------+-------+-------------+-------------+-------+------------------+------------------------+----+-------+\n",
            "|Pregnancies|Glucose|BloodPressure|SkinThickness|Insulin|               BMI|DiabetesPedigreeFunction| Age|Outcome|\n",
            "+-----------+-------+-------------+-------------+-------+------------------+------------------------+----+-------+\n",
            "|        6.0|  148.0|         72.0|         35.0|   77.0|33.599998474121094|      0.6269999742507935|50.0|    1.0|\n",
            "|        1.0|   85.0|         66.0|         29.0|   77.0|26.600000381469727|     0.35100001096725464|31.0|    0.0|\n",
            "|        8.0|  183.0|         64.0|         22.0|   77.0|23.299999237060547|       0.671999990940094|32.0|    1.0|\n",
            "|        1.0|   89.0|         66.0|         23.0|   94.0|28.100000381469727|     0.16699999570846558|21.0|    0.0|\n",
            "|        0.0|  137.0|         40.0|         35.0|  168.0|43.099998474121094|      2.2880001068115234|33.0|    1.0|\n",
            "|        5.0|  116.0|         74.0|         22.0|   77.0|25.600000381469727|     0.20100000500679016|30.0|    0.0|\n",
            "|        3.0|   78.0|         50.0|         32.0|   88.0|              31.0|     0.24799999594688416|26.0|    1.0|\n",
            "|       10.0|  115.0|         64.0|         22.0|   77.0| 35.29999923706055|      0.1340000033378601|29.0|    0.0|\n",
            "|        2.0|  197.0|         70.0|         45.0|  543.0|              30.5|     0.15800000727176666|53.0|    1.0|\n",
            "|        8.0|  125.0|         96.0|         22.0|   77.0|              27.5|     0.23199999332427979|54.0|    1.0|\n",
            "|        4.0|  110.0|         92.0|         22.0|   77.0|37.599998474121094|     0.19099999964237213|30.0|    0.0|\n",
            "|       10.0|  168.0|         74.0|         22.0|   77.0|              38.0|      0.5370000004768372|34.0|    1.0|\n",
            "|       10.0|  139.0|         80.0|         22.0|   77.0|27.100000381469727|       1.440999984741211|57.0|    0.0|\n",
            "|        1.0|  189.0|         60.0|         23.0|  846.0|30.100000381469727|     0.39800000190734863|59.0|    1.0|\n",
            "|        5.0|  166.0|         72.0|         19.0|  175.0|25.799999237060547|      0.5870000123977661|51.0|    1.0|\n",
            "|        7.0|  100.0|         64.0|         22.0|   77.0|              30.0|     0.48399999737739563|32.0|    1.0|\n",
            "|        0.0|  118.0|         84.0|         47.0|  230.0| 45.79999923706055|      0.5509999990463257|31.0|    1.0|\n",
            "|        7.0|  107.0|         74.0|         22.0|   77.0|29.600000381469727|      0.2540000081062317|31.0|    1.0|\n",
            "|        1.0|  103.0|         30.0|         38.0|   83.0| 43.29999923706055|     0.18299999833106995|33.0|    0.0|\n",
            "|        1.0|  115.0|         70.0|         30.0|   96.0|34.599998474121094|      0.5289999842643738|32.0|    1.0|\n",
            "|        3.0|  126.0|         88.0|         41.0|  235.0| 39.29999923706055|      0.7039999961853027|27.0|    0.0|\n",
            "|        8.0|   99.0|         84.0|         22.0|   77.0|35.400001525878906|      0.3880000114440918|50.0|    0.0|\n",
            "|        7.0|  196.0|         90.0|         22.0|   77.0| 39.79999923706055|     0.45100000500679016|41.0|    1.0|\n",
            "|        9.0|  119.0|         80.0|         35.0|   77.0|              29.0|      0.2630000114440918|29.0|    1.0|\n",
            "|       11.0|  143.0|         94.0|         33.0|  146.0|36.599998474121094|      0.2540000081062317|51.0|    1.0|\n",
            "|       10.0|  125.0|         70.0|         26.0|  115.0|31.100000381469727|     0.20499999821186066|41.0|    1.0|\n",
            "|        7.0|  147.0|         76.0|         22.0|   77.0|39.400001525878906|     0.25699999928474426|43.0|    1.0|\n",
            "|        1.0|   97.0|         66.0|         15.0|  140.0|23.200000762939453|      0.4869999885559082|22.0|    0.0|\n",
            "|       13.0|  145.0|         82.0|         19.0|  110.0|22.200000762939453|     0.24500000476837158|57.0|    0.0|\n",
            "|        5.0|  117.0|         92.0|         22.0|   77.0|34.099998474121094|      0.3370000123977661|38.0|    0.0|\n",
            "|        5.0|  109.0|         75.0|         26.0|   77.0|              36.0|      0.5460000038146973|60.0|    0.0|\n",
            "|        3.0|  158.0|         76.0|         36.0|  245.0|31.600000381469727|      0.8510000109672546|28.0|    1.0|\n",
            "|        3.0|   88.0|         58.0|         11.0|   54.0|24.799999237060547|      0.2669999897480011|22.0|    0.0|\n",
            "|        6.0|   92.0|         92.0|         22.0|   77.0|19.899999618530273|     0.18799999356269836|28.0|    0.0|\n",
            "|       10.0|  122.0|         78.0|         31.0|   77.0|27.600000381469727|      0.5120000243186951|45.0|    0.0|\n",
            "|        4.0|  103.0|         60.0|         33.0|  192.0|              24.0|      0.9660000205039978|33.0|    0.0|\n",
            "|       11.0|  138.0|         76.0|         22.0|   77.0| 33.20000076293945|     0.41999998688697815|35.0|    0.0|\n",
            "|        9.0|  102.0|         76.0|         37.0|   77.0|32.900001525878906|      0.6650000214576721|46.0|    1.0|\n",
            "|        2.0|   90.0|         68.0|         42.0|   77.0| 38.20000076293945|       0.503000020980835|27.0|    1.0|\n",
            "|        4.0|  111.0|         72.0|         47.0|  207.0|37.099998474121094|      1.3899999856948853|56.0|    1.0|\n",
            "|        3.0|  180.0|         64.0|         25.0|   70.0|              34.0|      0.2709999978542328|26.0|    0.0|\n",
            "|        7.0|  133.0|         84.0|         22.0|   77.0| 40.20000076293945|      0.6959999799728394|37.0|    0.0|\n",
            "|        7.0|  106.0|         92.0|         18.0|   77.0|22.700000762939453|     0.23499999940395355|48.0|    0.0|\n",
            "|        9.0|  171.0|        110.0|         24.0|  240.0|45.400001525878906|      0.7210000157356262|54.0|    1.0|\n",
            "|        7.0|  159.0|         64.0|         22.0|   77.0|27.399999618530273|      0.2939999997615814|40.0|    0.0|\n",
            "|        0.0|  180.0|         66.0|         39.0|   77.0|              42.0|      1.8930000066757202|25.0|    1.0|\n",
            "|        1.0|  146.0|         56.0|         22.0|   77.0|29.700000762939453|      0.5640000104904175|29.0|    0.0|\n",
            "|        2.0|   71.0|         70.0|         27.0|   77.0|              28.0|      0.5860000252723694|22.0|    0.0|\n",
            "|        7.0|  103.0|         66.0|         32.0|   77.0|39.099998474121094|      0.3440000116825104|31.0|    1.0|\n",
            "|        7.0|  105.0|         64.0|         22.0|   77.0|              27.5|      0.3050000071525574|24.0|    0.0|\n",
            "+-----------+-------+-------------+-------------+-------+------------------+------------------------+----+-------+\n",
            "only showing top 50 rows\n",
            "\n"
          ]
        }
      ]
    },
    {
      "cell_type": "code",
      "source": [
        "from pyspark.ml.feature import VectorAssembler\n",
        "assembler = VectorAssembler(inputCols=[\"Pregnancies\", \"Glucose\", \"BloodPressure\", \"SkinThickness\", \"Insulin\", \"DiabetesPedigreeFunction\", \"Outcome\" ], outputCol=\"features\")\n",
        "final_data = assembler.transform(data)\n",
        "final_data.show(10)\n"
      ],
      "metadata": {
        "colab": {
          "base_uri": "https://localhost:8080/"
        },
        "id": "vyN843ZIUr0p",
        "outputId": "86517f2b-b45f-475f-c1a4-eb8106608e01"
      },
      "execution_count": null,
      "outputs": [
        {
          "output_type": "stream",
          "name": "stdout",
          "text": [
            "+-----------+-------+-------------+-------------+-------+------------------+------------------------+----+-------+--------------------+\n",
            "|Pregnancies|Glucose|BloodPressure|SkinThickness|Insulin|               BMI|DiabetesPedigreeFunction| Age|Outcome|            features|\n",
            "+-----------+-------+-------------+-------------+-------+------------------+------------------------+----+-------+--------------------+\n",
            "|        6.0|  148.0|         72.0|         35.0|   77.0|33.599998474121094|      0.6269999742507935|50.0|    1.0|[6.0,148.0,72.0,3...|\n",
            "|        1.0|   85.0|         66.0|         29.0|   77.0|26.600000381469727|     0.35100001096725464|31.0|    0.0|[1.0,85.0,66.0,29...|\n",
            "|        8.0|  183.0|         64.0|         22.0|   77.0|23.299999237060547|       0.671999990940094|32.0|    1.0|[8.0,183.0,64.0,2...|\n",
            "|        1.0|   89.0|         66.0|         23.0|   94.0|28.100000381469727|     0.16699999570846558|21.0|    0.0|[1.0,89.0,66.0,23...|\n",
            "|        0.0|  137.0|         40.0|         35.0|  168.0|43.099998474121094|      2.2880001068115234|33.0|    1.0|[0.0,137.0,40.0,3...|\n",
            "|        5.0|  116.0|         74.0|         22.0|   77.0|25.600000381469727|     0.20100000500679016|30.0|    0.0|[5.0,116.0,74.0,2...|\n",
            "|        3.0|   78.0|         50.0|         32.0|   88.0|              31.0|     0.24799999594688416|26.0|    1.0|[3.0,78.0,50.0,32...|\n",
            "|       10.0|  115.0|         64.0|         22.0|   77.0| 35.29999923706055|      0.1340000033378601|29.0|    0.0|[10.0,115.0,64.0,...|\n",
            "|        2.0|  197.0|         70.0|         45.0|  543.0|              30.5|     0.15800000727176666|53.0|    1.0|[2.0,197.0,70.0,4...|\n",
            "|        8.0|  125.0|         96.0|         22.0|   77.0|              27.5|     0.23199999332427979|54.0|    1.0|[8.0,125.0,96.0,2...|\n",
            "+-----------+-------+-------------+-------------+-------+------------------+------------------------+----+-------+--------------------+\n",
            "only showing top 10 rows\n",
            "\n"
          ]
        }
      ]
    },
    {
      "cell_type": "code",
      "source": [],
      "metadata": {
        "id": "81enbPgKZYML"
      },
      "execution_count": null,
      "outputs": []
    },
    {
      "cell_type": "code",
      "source": [
        "print(final_data[\"features\", \"Outcome\"])"
      ],
      "metadata": {
        "colab": {
          "base_uri": "https://localhost:8080/"
        },
        "id": "i_g8U7YMXsfc",
        "outputId": "35af5085-9073-4c85-b5d4-7d370d827e07"
      },
      "execution_count": null,
      "outputs": [
        {
          "output_type": "stream",
          "name": "stdout",
          "text": [
            "DataFrame[features: vector, Outcome: float]\n"
          ]
        }
      ]
    },
    {
      "cell_type": "code",
      "source": [
        "final_data1 = final_data.select(\"features\", \"Outcome\")\n",
        "final_data1.show(10)"
      ],
      "metadata": {
        "colab": {
          "base_uri": "https://localhost:8080/"
        },
        "id": "-oO6HDE7YTJt",
        "outputId": "3f2356c8-9f36-450c-989e-08110b86ffa9"
      },
      "execution_count": null,
      "outputs": [
        {
          "output_type": "stream",
          "name": "stdout",
          "text": [
            "+--------------------+-------+\n",
            "|            features|Outcome|\n",
            "+--------------------+-------+\n",
            "|[6.0,148.0,72.0,3...|    1.0|\n",
            "|[1.0,85.0,66.0,29...|    0.0|\n",
            "|[8.0,183.0,64.0,2...|    1.0|\n",
            "|[1.0,89.0,66.0,23...|    0.0|\n",
            "|[0.0,137.0,40.0,3...|    1.0|\n",
            "|[5.0,116.0,74.0,2...|    0.0|\n",
            "|[3.0,78.0,50.0,32...|    1.0|\n",
            "|[10.0,115.0,64.0,...|    0.0|\n",
            "|[2.0,197.0,70.0,4...|    1.0|\n",
            "|[8.0,125.0,96.0,2...|    1.0|\n",
            "+--------------------+-------+\n",
            "only showing top 10 rows\n",
            "\n"
          ]
        }
      ]
    },
    {
      "cell_type": "code",
      "source": [
        "train_data, test_data = final_data1.randomSplit([0.8, 0.2])\n",
        "train_data.show()\n",
        "test_data.show()"
      ],
      "metadata": {
        "colab": {
          "base_uri": "https://localhost:8080/"
        },
        "id": "8WteN-MqZg0l",
        "outputId": "7c8a01bb-ee2e-4925-a6a8-4b2f16920d59"
      },
      "execution_count": null,
      "outputs": [
        {
          "output_type": "stream",
          "name": "stdout",
          "text": [
            "+--------------------+-------+\n",
            "|            features|Outcome|\n",
            "+--------------------+-------+\n",
            "|[0.0,57.0,60.0,22...|    0.0|\n",
            "|[0.0,67.0,76.0,22...|    0.0|\n",
            "|[0.0,73.0,64.0,22...|    0.0|\n",
            "|[0.0,74.0,52.0,10...|    0.0|\n",
            "|[0.0,78.0,88.0,29...|    0.0|\n",
            "|[0.0,84.0,64.0,22...|    0.0|\n",
            "|[0.0,84.0,82.0,31...|    0.0|\n",
            "|[0.0,86.0,68.0,32...|    0.0|\n",
            "|[0.0,91.0,80.0,22...|    0.0|\n",
            "|[0.0,93.0,60.0,22...|    0.0|\n",
            "|[0.0,93.0,100.0,3...|    0.0|\n",
            "|[0.0,94.0,64.0,22...|    0.0|\n",
            "|[0.0,95.0,64.0,39...|    0.0|\n",
            "|[0.0,95.0,80.0,45...|    0.0|\n",
            "|[0.0,95.0,85.0,25...|    1.0|\n",
            "|[0.0,97.0,64.0,36...|    0.0|\n",
            "|[0.0,99.0,64.0,22...|    0.0|\n",
            "|[0.0,100.0,70.0,2...|    0.0|\n",
            "|[0.0,100.0,88.0,6...|    0.0|\n",
            "|[0.0,101.0,62.0,2...|    0.0|\n",
            "+--------------------+-------+\n",
            "only showing top 20 rows\n",
            "\n",
            "+--------------------+-------+\n",
            "|            features|Outcome|\n",
            "+--------------------+-------+\n",
            "|[0.0,91.0,68.0,32...|    0.0|\n",
            "|[0.0,93.0,60.0,25...|    0.0|\n",
            "|[0.0,94.0,70.0,27...|    0.0|\n",
            "|[0.0,98.0,82.0,15...|    0.0|\n",
            "|[0.0,101.0,76.0,2...|    0.0|\n",
            "|[0.0,102.0,78.0,4...|    0.0|\n",
            "|[0.0,109.0,88.0,3...|    1.0|\n",
            "|[0.0,128.0,68.0,1...|    1.0|\n",
            "|[0.0,131.0,88.0,2...|    1.0|\n",
            "|[0.0,141.0,64.0,2...|    1.0|\n",
            "|[0.0,141.0,84.0,2...|    0.0|\n",
            "|[0.0,146.0,82.0,2...|    0.0|\n",
            "|[0.0,151.0,90.0,4...|    1.0|\n",
            "|[0.0,167.0,64.0,2...|    1.0|\n",
            "|[0.0,180.0,78.0,6...|    1.0|\n",
            "|[0.0,188.0,82.0,1...|    1.0|\n",
            "|[1.0,71.0,78.0,50...|    0.0|\n",
            "|[1.0,79.0,60.0,42...|    0.0|\n",
            "|[1.0,89.0,24.0,19...|    0.0|\n",
            "|[1.0,89.0,66.0,23...|    0.0|\n",
            "+--------------------+-------+\n",
            "only showing top 20 rows\n",
            "\n"
          ]
        }
      ]
    },
    {
      "cell_type": "code",
      "source": [
        "from pyspark.ml.classification import LogisticRegression\n",
        "lr = LogisticRegression(featuresCol=\"features\", labelCol=\"Outcome\")\n",
        "model = lr.fit(train_data)\n",
        "predictions = model.transform(test_data)"
      ],
      "metadata": {
        "id": "CvnVJudzYBQ0"
      },
      "execution_count": null,
      "outputs": []
    },
    {
      "cell_type": "code",
      "source": [
        "predictions.show()"
      ],
      "metadata": {
        "colab": {
          "base_uri": "https://localhost:8080/"
        },
        "id": "-vLvuF0nZszr",
        "outputId": "3746257d-2681-4090-d712-c8f733ffc851"
      },
      "execution_count": null,
      "outputs": [
        {
          "output_type": "stream",
          "name": "stdout",
          "text": [
            "+--------------------+-------+--------------------+--------------------+----------+\n",
            "|            features|Outcome|       rawPrediction|         probability|prediction|\n",
            "+--------------------+-------+--------------------+--------------------+----------+\n",
            "|[0.0,57.0,60.0,22...|    0.0|[20.1454433160567...|[0.99999999821784...|       0.0|\n",
            "|[0.0,73.0,64.0,22...|    0.0|[20.0034414858235...|[0.99999999794592...|       0.0|\n",
            "|[0.0,74.0,52.0,10...|    0.0|[20.1961035839516...|[0.99999999830588...|       0.0|\n",
            "|[0.0,78.0,88.0,29...|    0.0|[19.7244152584883...|[0.99999999728484...|       0.0|\n",
            "|[0.0,84.0,64.0,22...|    0.0|[19.7870030219240...|[0.99999999744956...|       0.0|\n",
            "|[0.0,91.0,68.0,32...|    0.0|[19.6066614764615...|[0.99999999694553...|       0.0|\n",
            "|[0.0,91.0,80.0,22...|    0.0|[19.6082788137300...|[0.99999999695047...|       0.0|\n",
            "|[0.0,93.0,60.0,22...|    0.0|[19.7490784890976...|[0.99999999735098...|       0.0|\n",
            "|[0.0,97.0,64.0,36...|    0.0|[19.4174204950032...|[0.99999999630919...|       0.0|\n",
            "|[0.0,98.0,82.0,15...|    0.0|[19.6652637463254...|[0.99999999711939...|       0.0|\n",
            "|[0.0,100.0,70.0,2...|    0.0|[19.4667793608083...|[0.99999999648694...|       0.0|\n",
            "|[0.0,101.0,65.0,2...|    0.0|[19.5479316743714...|[0.99999999676077...|       0.0|\n",
            "|[0.0,102.0,75.0,2...|    0.0|[19.4633709335674...|[0.99999999647494...|       0.0|\n",
            "|[0.0,104.0,64.0,3...|    1.0|[-18.248715669735...|[1.18763633925523...|       1.0|\n",
            "|[0.0,104.0,76.0,2...|    0.0|[19.4396208834303...|[0.99999999639022...|       0.0|\n",
            "|[0.0,105.0,90.0,2...|    0.0|[19.4749779917172...|[0.99999999651562...|       0.0|\n",
            "|[0.0,107.0,60.0,2...|    0.0|[19.5443333163838...|[0.99999999674909...|       0.0|\n",
            "|[0.0,107.0,62.0,3...|    1.0|[-18.266715456175...|[1.16645038238315...|       1.0|\n",
            "|[0.0,108.0,68.0,2...|    0.0|[19.3809101048159...|[0.99999999617194...|       0.0|\n",
            "|[0.0,117.0,64.0,2...|    0.0|[19.2019479843255...|[0.99999999542174...|       0.0|\n",
            "+--------------------+-------+--------------------+--------------------+----------+\n",
            "only showing top 20 rows\n",
            "\n"
          ]
        }
      ]
    },
    {
      "cell_type": "code",
      "source": [
        "train_data.show()"
      ],
      "metadata": {
        "colab": {
          "base_uri": "https://localhost:8080/"
        },
        "id": "qe8tJEHeZ4x5",
        "outputId": "99e10c0e-eca7-49d6-b29e-b088cab18867"
      },
      "execution_count": null,
      "outputs": [
        {
          "output_type": "stream",
          "name": "stdout",
          "text": [
            "+--------------------+-------+\n",
            "|            features|Outcome|\n",
            "+--------------------+-------+\n",
            "|[0.0,57.0,60.0,22...|    0.0|\n",
            "|[0.0,67.0,76.0,22...|    0.0|\n",
            "|[0.0,74.0,52.0,10...|    0.0|\n",
            "|[0.0,78.0,88.0,29...|    0.0|\n",
            "|[0.0,84.0,64.0,22...|    0.0|\n",
            "|[0.0,86.0,68.0,32...|    0.0|\n",
            "|[0.0,91.0,68.0,32...|    0.0|\n",
            "|[0.0,93.0,60.0,22...|    0.0|\n",
            "|[0.0,93.0,60.0,25...|    0.0|\n",
            "|[0.0,93.0,100.0,3...|    0.0|\n",
            "|[0.0,94.0,64.0,22...|    0.0|\n",
            "|[0.0,94.0,70.0,27...|    0.0|\n",
            "|[0.0,95.0,64.0,39...|    0.0|\n",
            "|[0.0,95.0,80.0,45...|    0.0|\n",
            "|[0.0,95.0,85.0,25...|    1.0|\n",
            "|[0.0,97.0,64.0,36...|    0.0|\n",
            "|[0.0,98.0,82.0,15...|    0.0|\n",
            "|[0.0,99.0,64.0,22...|    0.0|\n",
            "|[0.0,100.0,70.0,2...|    0.0|\n",
            "|[0.0,100.0,88.0,6...|    0.0|\n",
            "+--------------------+-------+\n",
            "only showing top 20 rows\n",
            "\n"
          ]
        }
      ]
    },
    {
      "cell_type": "code",
      "source": [
        "from pyspark.ml.evaluation import BinaryClassificationEvaluator, RegressionEvaluator, MulticlassClassificationEvaluator\n",
        "Bevaluator = BinaryClassificationEvaluator()\n",
        "Bevaluator.setLabelCol(\"Outcome\")\n",
        "Bevaluator.evaluate(predictions)\n"
      ],
      "metadata": {
        "colab": {
          "base_uri": "https://localhost:8080/"
        },
        "id": "mm2jLYcSaA5Z",
        "outputId": "f2257d35-4ba5-4837-b1b3-4fd5b3860091"
      },
      "execution_count": null,
      "outputs": [
        {
          "output_type": "execute_result",
          "data": {
            "text/plain": [
              "1.0"
            ]
          },
          "metadata": {},
          "execution_count": 81
        }
      ]
    },
    {
      "cell_type": "code",
      "source": [
        "Mevaluator = MulticlassClassificationEvaluator()\n",
        "Mevaluator.setLabelCol(\"Outcome\")\n",
        "Mevaluator.setPredictionCol(\"prediction\")\n",
        "Mevaluator.evaluate(predictions)"
      ],
      "metadata": {
        "colab": {
          "base_uri": "https://localhost:8080/"
        },
        "id": "mxddkCjibhMi",
        "outputId": "0f4ba2f7-cd62-471e-d181-3f3643e7a2c0"
      },
      "execution_count": null,
      "outputs": [
        {
          "output_type": "execute_result",
          "data": {
            "text/plain": [
              "1.0"
            ]
          },
          "metadata": {},
          "execution_count": 82
        }
      ]
    },
    {
      "cell_type": "code",
      "source": [
        "from pyspark.ml.classification import NaiveBayes"
      ],
      "metadata": {
        "id": "gAYt_mn_cABz"
      },
      "execution_count": null,
      "outputs": []
    },
    {
      "cell_type": "code",
      "source": [
        "nb = NaiveBayes(featuresCol=\"features\", labelCol=\"Outcome\", modelType=\"multinomial\")"
      ],
      "metadata": {
        "id": "JOVL9Ep-h44I"
      },
      "execution_count": null,
      "outputs": []
    },
    {
      "cell_type": "code",
      "source": [
        "nbmodel = nb.fit(train_data)\n",
        "predictions = nbmodel.transform(test_data)\n",
        "evaluator = MulticlassClassificationEvaluator(predictionCol=\"prediction\", labelCol=\"Outcome\", metricName=\"accuracy\")\n",
        "accuracy = evaluator.evaluate(predictions)\n",
        "print(\"Accuracy:\", accuracy)"
      ],
      "metadata": {
        "colab": {
          "base_uri": "https://localhost:8080/"
        },
        "id": "uwRxqvrWh8SC",
        "outputId": "fa430d2a-6fb2-40cc-fe7a-1384c27db663"
      },
      "execution_count": null,
      "outputs": [
        {
          "output_type": "stream",
          "name": "stdout",
          "text": [
            "Accuracy: 0.7972972972972973\n"
          ]
        }
      ]
    },
    {
      "cell_type": "code",
      "source": [
        "from pyspark.mllib.classification import PerceptronModel, PerceptronWithSGD\n",
        "from pyspark.mllib.regression import LabeledPoint\n",
        "from pyspark.mllib.linalg import Vectors\n",
        "perceptron = PerceptronClassifier(featuresCol=\"features\", labelCol=\"Outcome\", maxIter=10)\n",
        "perpmodel = perceptron.fit(train_data)\n",
        "\n",
        "predictions = perpmodel.transform(test_data)\n",
        "print(\"Prediction:\", prediction)"
      ],
      "metadata": {
        "colab": {
          "base_uri": "https://localhost:8080/",
          "height": 401
        },
        "id": "vCgMb9hWimPb",
        "outputId": "51033082-6f3c-40e0-fa25-cd78f14fa0ca"
      },
      "execution_count": null,
      "outputs": [
        {
          "output_type": "error",
          "ename": "ImportError",
          "evalue": "cannot import name 'PerceptronModel' from 'pyspark.mllib.classification' (/usr/local/lib/python3.10/dist-packages/pyspark/mllib/classification.py)",
          "traceback": [
            "\u001b[0;31m---------------------------------------------------------------------------\u001b[0m",
            "\u001b[0;31mImportError\u001b[0m                               Traceback (most recent call last)",
            "\u001b[0;32m<ipython-input-68-01262085f258>\u001b[0m in \u001b[0;36m<cell line: 1>\u001b[0;34m()\u001b[0m\n\u001b[0;32m----> 1\u001b[0;31m \u001b[0;32mfrom\u001b[0m \u001b[0mpyspark\u001b[0m\u001b[0;34m.\u001b[0m\u001b[0mmllib\u001b[0m\u001b[0;34m.\u001b[0m\u001b[0mclassification\u001b[0m \u001b[0;32mimport\u001b[0m \u001b[0mPerceptronModel\u001b[0m\u001b[0;34m,\u001b[0m \u001b[0mPerceptronWithSGD\u001b[0m\u001b[0;34m\u001b[0m\u001b[0;34m\u001b[0m\u001b[0m\n\u001b[0m\u001b[1;32m      2\u001b[0m \u001b[0;32mfrom\u001b[0m \u001b[0mpyspark\u001b[0m\u001b[0;34m.\u001b[0m\u001b[0mmllib\u001b[0m\u001b[0;34m.\u001b[0m\u001b[0mregression\u001b[0m \u001b[0;32mimport\u001b[0m \u001b[0mLabeledPoint\u001b[0m\u001b[0;34m\u001b[0m\u001b[0;34m\u001b[0m\u001b[0m\n\u001b[1;32m      3\u001b[0m \u001b[0;32mfrom\u001b[0m \u001b[0mpyspark\u001b[0m\u001b[0;34m.\u001b[0m\u001b[0mmllib\u001b[0m\u001b[0;34m.\u001b[0m\u001b[0mlinalg\u001b[0m \u001b[0;32mimport\u001b[0m \u001b[0mVectors\u001b[0m\u001b[0;34m\u001b[0m\u001b[0;34m\u001b[0m\u001b[0m\n\u001b[1;32m      4\u001b[0m \u001b[0mperceptron\u001b[0m \u001b[0;34m=\u001b[0m \u001b[0mPerceptronClassifier\u001b[0m\u001b[0;34m(\u001b[0m\u001b[0mfeaturesCol\u001b[0m\u001b[0;34m=\u001b[0m\u001b[0;34m\"features\"\u001b[0m\u001b[0;34m,\u001b[0m \u001b[0mlabelCol\u001b[0m\u001b[0;34m=\u001b[0m\u001b[0;34m\"Outcome\"\u001b[0m\u001b[0;34m,\u001b[0m \u001b[0mmaxIter\u001b[0m\u001b[0;34m=\u001b[0m\u001b[0;36m10\u001b[0m\u001b[0;34m)\u001b[0m\u001b[0;34m\u001b[0m\u001b[0;34m\u001b[0m\u001b[0m\n\u001b[1;32m      5\u001b[0m \u001b[0mperpmodel\u001b[0m \u001b[0;34m=\u001b[0m \u001b[0mperceptron\u001b[0m\u001b[0;34m.\u001b[0m\u001b[0mfit\u001b[0m\u001b[0;34m(\u001b[0m\u001b[0mtrain_data\u001b[0m\u001b[0;34m)\u001b[0m\u001b[0;34m\u001b[0m\u001b[0;34m\u001b[0m\u001b[0m\n",
            "\u001b[0;31mImportError\u001b[0m: cannot import name 'PerceptronModel' from 'pyspark.mllib.classification' (/usr/local/lib/python3.10/dist-packages/pyspark/mllib/classification.py)",
            "",
            "\u001b[0;31m---------------------------------------------------------------------------\u001b[0;32m\nNOTE: If your import is failing due to a missing package, you can\nmanually install dependencies using either !pip or !apt.\n\nTo view examples of installing some common dependencies, click the\n\"Open Examples\" button below.\n\u001b[0;31m---------------------------------------------------------------------------\u001b[0m\n"
          ],
          "errorDetails": {
            "actions": [
              {
                "action": "open_url",
                "actionText": "Open Examples",
                "url": "/notebooks/snippets/importing_libraries.ipynb"
              }
            ]
          }
        }
      ]
    },
    {
      "cell_type": "code",
      "source": [
        "from pyspark.ml.classification import LinearSVC\n",
        "svm = LinearSVC(featuresCol=\"features\", labelCol=\"Outcome\", maxIter=10, regParam=0.1)\n",
        "svmmodel = svm.fit(train_data)\n",
        "predictions = svmmodel.transform(test_data)\n",
        "evaluator = MulticlassClassificationEvaluator(predictionCol=\"prediction\", labelCol=\"Outcome\", metricName=\"accuracy\")\n",
        "accuracy = evaluator.evaluate(predictions)\n",
        "print(\"Accuracy:\", accuracy)"
      ],
      "metadata": {
        "colab": {
          "base_uri": "https://localhost:8080/"
        },
        "id": "TWdcjaUEjbq0",
        "outputId": "31b5b52d-4e42-42e1-d6f9-523b8f062bfb"
      },
      "execution_count": null,
      "outputs": [
        {
          "output_type": "stream",
          "name": "stdout",
          "text": [
            "Accuracy: 1.0\n"
          ]
        }
      ]
    },
    {
      "cell_type": "code",
      "source": [
        "from pyspark.ml.classification import DecisionTreeClassifier\n",
        "dt = DecisionTreeClassifier(featuresCol=\"features\", labelCol=\"Outcome\", maxDepth=5, impurity=\"gini\")\n",
        "model = dt.fit(train_data)\n",
        "\n",
        "predictions = model.transform(test_data)\n",
        "\n",
        "\n",
        "evaluator = MulticlassClassificationEvaluator(predictionCol=\"prediction\", labelCol=\"Outcome\", metricName=\"accuracy\")\n",
        "accuracy = evaluator.evaluate(predictions)\n",
        "print(\"Accuracy:\", accuracy)"
      ],
      "metadata": {
        "colab": {
          "base_uri": "https://localhost:8080/"
        },
        "id": "YbOnEK1oktUb",
        "outputId": "3b810f12-d830-4118-ae18-1e89650c6ac3"
      },
      "execution_count": null,
      "outputs": [
        {
          "output_type": "stream",
          "name": "stdout",
          "text": [
            "Accuracy: 1.0\n"
          ]
        }
      ]
    },
    {
      "cell_type": "code",
      "source": [],
      "metadata": {
        "id": "_8F1fRp_mDkQ"
      },
      "execution_count": null,
      "outputs": []
    },
    {
      "cell_type": "markdown",
      "source": [],
      "metadata": {
        "id": "fEjFzTn2l5Oa"
      }
    },
    {
      "cell_type": "code",
      "source": [],
      "metadata": {
        "id": "AxK8YVL_i9la"
      },
      "execution_count": null,
      "outputs": []
    }
  ]
}