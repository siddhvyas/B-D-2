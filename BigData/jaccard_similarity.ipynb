{
  "nbformat": 4,
  "nbformat_minor": 0,
  "metadata": {
    "colab": {
      "provenance": []
    },
    "kernelspec": {
      "name": "python3",
      "display_name": "Python 3"
    },
    "language_info": {
      "name": "python"
    }
  },
  "cells": [
    {
      "cell_type": "code",
      "execution_count": 3,
      "metadata": {
        "colab": {
          "base_uri": "https://localhost:8080/"
        },
        "id": "PmC-d_4YZ0yL",
        "outputId": "6e8b6204-04e5-4fc9-e2fe-4554f9ed48c1"
      },
      "outputs": [
        {
          "output_type": "stream",
          "name": "stdout",
          "text": [
            "YOU spotted snakes with double tongue,\n",
            "Thorny hedgehogs, be not seen;\n",
            "Newts and blind-worms, do no wrong;\n",
            "Come not near our fairy queen.\n",
            "\n",
            "Philomel, with melody,\n",
            "Sing in our sweet lullaby;\n",
            "Lulla, lulla, lullaby; lulla, lulla, lullaby!\n",
            "Never harm,\n",
            "Nor spell nor charm,\n",
            "Come our lovely lady nigh;\n",
            "So, good night, with lullaby.\n",
            "\n",
            "Weaving spiders, come not here;\n",
            "Hence, you long-legg'd spinners, hence!\n",
            "Beetles black, approach not near;\n",
            "Worm nor snail, do no offence.\n",
            "\n",
            "Philomel, with melody,\n",
            "Sing in our sweet lullaby;\n",
            "Lulla, lulla, lullaby; lulla, lulla, lullaby!\n",
            "Never harm,\n",
            "Nor spell nor charm,\n",
            "Come our lovely lady nigh;\n",
            "So, good night, with lullaby.\n"
          ]
        }
      ],
      "source": [
        "with open('singles.txt', 'r') as file:\n",
        "      file_content = file.read()\n",
        "      print(file_content)"
      ]
    },
    {
      "cell_type": "code",
      "source": [
        "shingling= file_content.split()\n",
        "print(shingling)"
      ],
      "metadata": {
        "colab": {
          "base_uri": "https://localhost:8080/"
        },
        "id": "D7FD-pK3aSZV",
        "outputId": "67b83061-7e11-455e-f826-feae9a523b29"
      },
      "execution_count": 4,
      "outputs": [
        {
          "output_type": "stream",
          "name": "stdout",
          "text": [
            "['YOU', 'spotted', 'snakes', 'with', 'double', 'tongue,', 'Thorny', 'hedgehogs,', 'be', 'not', 'seen;', 'Newts', 'and', 'blind-worms,', 'do', 'no', 'wrong;', 'Come', 'not', 'near', 'our', 'fairy', 'queen.', 'Philomel,', 'with', 'melody,', 'Sing', 'in', 'our', 'sweet', 'lullaby;', 'Lulla,', 'lulla,', 'lullaby;', 'lulla,', 'lulla,', 'lullaby!', 'Never', 'harm,', 'Nor', 'spell', 'nor', 'charm,', 'Come', 'our', 'lovely', 'lady', 'nigh;', 'So,', 'good', 'night,', 'with', 'lullaby.', 'Weaving', 'spiders,', 'come', 'not', 'here;', 'Hence,', 'you', \"long-legg'd\", 'spinners,', 'hence!', 'Beetles', 'black,', 'approach', 'not', 'near;', 'Worm', 'nor', 'snail,', 'do', 'no', 'offence.', 'Philomel,', 'with', 'melody,', 'Sing', 'in', 'our', 'sweet', 'lullaby;', 'Lulla,', 'lulla,', 'lullaby;', 'lulla,', 'lulla,', 'lullaby!', 'Never', 'harm,', 'Nor', 'spell', 'nor', 'charm,', 'Come', 'our', 'lovely', 'lady', 'nigh;', 'So,', 'good', 'night,', 'with', 'lullaby.']\n"
          ]
        }
      ]
    },
    {
      "cell_type": "code",
      "source": [
        "length =3\n",
        "print([shingling[i:i+length]for i in range(len(shingling)- length+1)if len(shingling[i])])"
      ],
      "metadata": {
        "colab": {
          "base_uri": "https://localhost:8080/"
        },
        "id": "UTGZGUYpb0qj",
        "outputId": "6668ef7e-4b1b-4992-8264-f18a44b451be"
      },
      "execution_count": 5,
      "outputs": [
        {
          "output_type": "stream",
          "name": "stdout",
          "text": [
            "[['YOU', 'spotted', 'snakes'], ['spotted', 'snakes', 'with'], ['snakes', 'with', 'double'], ['with', 'double', 'tongue,'], ['double', 'tongue,', 'Thorny'], ['tongue,', 'Thorny', 'hedgehogs,'], ['Thorny', 'hedgehogs,', 'be'], ['hedgehogs,', 'be', 'not'], ['be', 'not', 'seen;'], ['not', 'seen;', 'Newts'], ['seen;', 'Newts', 'and'], ['Newts', 'and', 'blind-worms,'], ['and', 'blind-worms,', 'do'], ['blind-worms,', 'do', 'no'], ['do', 'no', 'wrong;'], ['no', 'wrong;', 'Come'], ['wrong;', 'Come', 'not'], ['Come', 'not', 'near'], ['not', 'near', 'our'], ['near', 'our', 'fairy'], ['our', 'fairy', 'queen.'], ['fairy', 'queen.', 'Philomel,'], ['queen.', 'Philomel,', 'with'], ['Philomel,', 'with', 'melody,'], ['with', 'melody,', 'Sing'], ['melody,', 'Sing', 'in'], ['Sing', 'in', 'our'], ['in', 'our', 'sweet'], ['our', 'sweet', 'lullaby;'], ['sweet', 'lullaby;', 'Lulla,'], ['lullaby;', 'Lulla,', 'lulla,'], ['Lulla,', 'lulla,', 'lullaby;'], ['lulla,', 'lullaby;', 'lulla,'], ['lullaby;', 'lulla,', 'lulla,'], ['lulla,', 'lulla,', 'lullaby!'], ['lulla,', 'lullaby!', 'Never'], ['lullaby!', 'Never', 'harm,'], ['Never', 'harm,', 'Nor'], ['harm,', 'Nor', 'spell'], ['Nor', 'spell', 'nor'], ['spell', 'nor', 'charm,'], ['nor', 'charm,', 'Come'], ['charm,', 'Come', 'our'], ['Come', 'our', 'lovely'], ['our', 'lovely', 'lady'], ['lovely', 'lady', 'nigh;'], ['lady', 'nigh;', 'So,'], ['nigh;', 'So,', 'good'], ['So,', 'good', 'night,'], ['good', 'night,', 'with'], ['night,', 'with', 'lullaby.'], ['with', 'lullaby.', 'Weaving'], ['lullaby.', 'Weaving', 'spiders,'], ['Weaving', 'spiders,', 'come'], ['spiders,', 'come', 'not'], ['come', 'not', 'here;'], ['not', 'here;', 'Hence,'], ['here;', 'Hence,', 'you'], ['Hence,', 'you', \"long-legg'd\"], ['you', \"long-legg'd\", 'spinners,'], [\"long-legg'd\", 'spinners,', 'hence!'], ['spinners,', 'hence!', 'Beetles'], ['hence!', 'Beetles', 'black,'], ['Beetles', 'black,', 'approach'], ['black,', 'approach', 'not'], ['approach', 'not', 'near;'], ['not', 'near;', 'Worm'], ['near;', 'Worm', 'nor'], ['Worm', 'nor', 'snail,'], ['nor', 'snail,', 'do'], ['snail,', 'do', 'no'], ['do', 'no', 'offence.'], ['no', 'offence.', 'Philomel,'], ['offence.', 'Philomel,', 'with'], ['Philomel,', 'with', 'melody,'], ['with', 'melody,', 'Sing'], ['melody,', 'Sing', 'in'], ['Sing', 'in', 'our'], ['in', 'our', 'sweet'], ['our', 'sweet', 'lullaby;'], ['sweet', 'lullaby;', 'Lulla,'], ['lullaby;', 'Lulla,', 'lulla,'], ['Lulla,', 'lulla,', 'lullaby;'], ['lulla,', 'lullaby;', 'lulla,'], ['lullaby;', 'lulla,', 'lulla,'], ['lulla,', 'lulla,', 'lullaby!'], ['lulla,', 'lullaby!', 'Never'], ['lullaby!', 'Never', 'harm,'], ['Never', 'harm,', 'Nor'], ['harm,', 'Nor', 'spell'], ['Nor', 'spell', 'nor'], ['spell', 'nor', 'charm,'], ['nor', 'charm,', 'Come'], ['charm,', 'Come', 'our'], ['Come', 'our', 'lovely'], ['our', 'lovely', 'lady'], ['lovely', 'lady', 'nigh;'], ['lady', 'nigh;', 'So,'], ['nigh;', 'So,', 'good'], ['So,', 'good', 'night,'], ['good', 'night,', 'with'], ['night,', 'with', 'lullaby.']]\n"
          ]
        }
      ]
    },
    {
      "cell_type": "code",
      "source": [
        "import numpy as np\n",
        "\n",
        "documents = ['singles.txt', 'singles1.txt', 'singles2.txt']\n",
        "\n",
        "def get_shingles_from_doc(doc_path):\n",
        "    try:\n",
        "        with open(doc_path, 'r', encoding='utf-8') as file:\n",
        "          doc_content = file.read()\n",
        "    except FileNotFoundError:\n",
        "      print(f\"Warning: File not found: {doc_path}\")\n",
        "      return []\n",
        "    doc_shingles = doc_content.lower().split()\n",
        "    return doc_shingles\n",
        "\n",
        "\n",
        "shingle_document_matrix = {}\n",
        "for shingle in shingling:\n",
        "  shingle_document_matrix[shingle] = []\n",
        "  for doc_path in documents:\n",
        "    doc_shingles = get_shingles_from_doc(doc_path)\n",
        "    if shingle in doc_shingles:\n",
        "      shingle_document_matrix[shingle].append(1)\n",
        "    else:\n",
        "      shingle_document_matrix[shingle].append(0)\n",
        "\n",
        "\n",
        "matrix = np.array(list(shingle_document_matrix.values()))\n",
        "\n",
        "matrix\n"
      ],
      "metadata": {
        "colab": {
          "base_uri": "https://localhost:8080/"
        },
        "id": "_IdxupK6dj4x",
        "outputId": "113f3b43-1347-4ba9-dd05-b11ec76fbf24"
      },
      "execution_count": 6,
      "outputs": [
        {
          "output_type": "execute_result",
          "data": {
            "text/plain": [
              "array([[0, 0, 0],\n",
              "       [1, 0, 0],\n",
              "       [1, 0, 0],\n",
              "       [1, 0, 0],\n",
              "       [1, 0, 0],\n",
              "       [1, 0, 0],\n",
              "       [0, 0, 0],\n",
              "       [1, 0, 0],\n",
              "       [1, 0, 0],\n",
              "       [1, 0, 0],\n",
              "       [1, 0, 0],\n",
              "       [0, 0, 0],\n",
              "       [1, 1, 1],\n",
              "       [1, 0, 0],\n",
              "       [1, 0, 0],\n",
              "       [1, 0, 0],\n",
              "       [1, 0, 0],\n",
              "       [0, 0, 0],\n",
              "       [1, 0, 0],\n",
              "       [1, 0, 0],\n",
              "       [1, 0, 0],\n",
              "       [1, 0, 0],\n",
              "       [0, 0, 0],\n",
              "       [1, 0, 0],\n",
              "       [0, 0, 0],\n",
              "       [1, 0, 0],\n",
              "       [1, 0, 0],\n",
              "       [1, 0, 0],\n",
              "       [0, 0, 0],\n",
              "       [1, 0, 0],\n",
              "       [1, 0, 0],\n",
              "       [0, 0, 0],\n",
              "       [1, 0, 0],\n",
              "       [0, 0, 0],\n",
              "       [1, 0, 0],\n",
              "       [1, 0, 0],\n",
              "       [1, 0, 0],\n",
              "       [1, 0, 0],\n",
              "       [1, 0, 0],\n",
              "       [1, 0, 0],\n",
              "       [0, 0, 0],\n",
              "       [1, 1, 1],\n",
              "       [1, 0, 0],\n",
              "       [1, 0, 0],\n",
              "       [0, 0, 0],\n",
              "       [1, 0, 0],\n",
              "       [1, 0, 0],\n",
              "       [1, 0, 0],\n",
              "       [0, 0, 0],\n",
              "       [1, 0, 0],\n",
              "       [1, 0, 0],\n",
              "       [1, 0, 0],\n",
              "       [1, 0, 0],\n",
              "       [0, 0, 0],\n",
              "       [1, 0, 0],\n",
              "       [1, 0, 0],\n",
              "       [1, 0, 0],\n",
              "       [0, 0, 0],\n",
              "       [1, 0, 0],\n",
              "       [1, 0, 0]])"
            ]
          },
          "metadata": {},
          "execution_count": 6
        }
      ]
    },
    {
      "cell_type": "code",
      "source": [
        "import numpy as np\n",
        "from sklearn.metrics import jaccard_score\n",
        "import random\n",
        "\n",
        "h1 = lambda x: (x + 1) % 61\n",
        "h2 = lambda x:(x+3)%61\n",
        "h3 = lambda x: (3*x+5)%61\n",
        "h4 = lambda x: (5*x+7)%61\n",
        "h5 = lambda x: (7*x+11)%61\n",
        "hash = [h1,h2,h3,h4,h5]\n",
        "# for h in hash (5):\n",
        "#   print(h)\n",
        "\n",
        "def create_signature_matrix(matrix, num_permutations):\n",
        "  num_docs = matrix.shape[1]\n",
        "  num_shingles = matrix.shape[0]\n",
        "  signature_matrix = np.inf * np.ones((num_permutations, num_docs), dtype=int)\n",
        "\n",
        "  for i in range(num_permutations):\n",
        "      hash_func = hash[i]\n",
        "      for r in range(num_shingles):\n",
        "        for c in range(num_docs):\n",
        "          if matrix[r, c] == 1:\n",
        "            hash_value = hash_func(r)\n",
        "            signature_matrix[i, c] = min(signature_matrix[i, c], hash_value)\n",
        "\n",
        "  return signature_matrix\n",
        "    # num_docs = matrix.shape[1]\n",
        "    # num_shingles = matrix.shape[0]\n",
        "    # signature_matrix = np.inf * np.ones((num_permutations, num_docs), dtype=int)\n",
        "    # for k in range(num_permutations):\n",
        "    #   hash_value=hash[k(k)]\n",
        "    #   for i in range(0,num_shingles):\n",
        "\n",
        "    #     for j in range(0, num_docs):\n",
        "    #       if matrix[i, j] == 1:\n",
        "    #         if signature_matrix[k, j] > hash_value:\n",
        "    #           signature_matrix[k, j] = hash_value\n",
        "\n",
        "\n",
        "    # for i in range(num_permutations):\n",
        "    #     for j in range(num_docs):\n",
        "\n",
        "    #         for k in range(num_shingles):\n",
        "    #             if matrix[k, j] == 1:\n",
        "    #               for h in range(hash):\n",
        "    #                 hash_value = hash(i)\n",
        "    #                 print(hash_value)\n",
        "    #                 if hash_value < signature_matrix[i, j]:\n",
        "\n",
        "    #                   signature_matrix[i, j] = hash_value\n",
        "\n",
        "\n",
        "      # return signature_matrix\n",
        "\n",
        "signature_matrix = create_signature_matrix(matrix, 5)\n",
        "signature_matrix\n"
      ],
      "metadata": {
        "colab": {
          "base_uri": "https://localhost:8080/"
        },
        "id": "X1yb95IkjLlY",
        "outputId": "08949bca-c201-43b4-fa8a-4fd97206bc8a"
      },
      "execution_count": 15,
      "outputs": [
        {
          "output_type": "execute_result",
          "data": {
            "text/plain": [
              "array([[ 2., 13., 13.],\n",
              "       [ 0., 15., 15.],\n",
              "       [ 0.,  6.,  6.],\n",
              "       [ 0.,  6.,  6.],\n",
              "       [ 0., 34., 34.]])"
            ]
          },
          "metadata": {},
          "execution_count": 15
        }
      ]
    },
    {
      "cell_type": "code",
      "source": [
        "import numpy as np\n",
        "from sklearn.metrics import jaccard_score\n",
        "import random\n",
        "\n",
        "def calculate_jaccard_similarity(doc1_index, doc2_index, signature_matrix):\n",
        "\n",
        "    doc1_signature = matrix[:, doc1_index]\n",
        "    doc2_signature = matrix[:, doc2_index]\n",
        "\n",
        "    jaccard_sim = jaccard_score(doc1_signature, doc2_signature)\n",
        "    return jaccard_sim\n",
        "\n",
        "jaccard_sim = calculate_jaccard_similarity(0, 1, matrix)\n",
        "print(f\"Jaccard Similarity between documents 0 and 1: {jaccard_sim}\")\n",
        "\n",
        "num_docs = matrix.shape[1]\n",
        "for i in range(num_docs):\n",
        "    for j in range(i + 1, num_docs):\n",
        "      jaccard_sim = calculate_jaccard_similarity(i, j, matrix)\n",
        "      print(f\"Jaccard similarity between document {i} and {j}: {jaccard_sim}\")"
      ],
      "metadata": {
        "colab": {
          "base_uri": "https://localhost:8080/"
        },
        "id": "3ztXc0C1kv2S",
        "outputId": "17662809-8cb5-4916-c0fb-c85059d460de"
      },
      "execution_count": 16,
      "outputs": [
        {
          "output_type": "stream",
          "name": "stdout",
          "text": [
            "Jaccard Similarity between documents 0 and 1: 0.043478260869565216\n",
            "Jaccard similarity between document 0 and 1: 0.043478260869565216\n",
            "Jaccard similarity between document 0 and 2: 0.043478260869565216\n",
            "Jaccard similarity between document 1 and 2: 1.0\n"
          ]
        }
      ]
    },
    {
      "cell_type": "code",
      "source": [
        "import numpy as np\n",
        "from sklearn.metrics import jaccard_score\n",
        "from sklearn.metrics.pairwise import cosine_similarity\n",
        "import random\n",
        "\n",
        "\n",
        "def calculate_cosine_similarity(doc1_index, doc2_index, matrix):\n",
        "\n",
        "    doc1_vector = matrix[:, doc1_index]\n",
        "    doc2_vector = matrix[:, doc2_index]\n",
        "\n",
        "    doc1_vector = doc1_vector.reshape(1, -1)\n",
        "    doc2_vector = doc2_vector.reshape(1, -1)\n",
        "\n",
        "    cosine_sim = cosine_similarity(doc1_vector, doc2_vector)[0][0]\n",
        "    return cosine_sim\n",
        "\n",
        "cosine_sim = calculate_cosine_similarity(0, 1, matrix)\n",
        "print(f\"Cosine Similarity between documents 0 and 1: {cosine_sim}\")\n",
        "\n",
        "\n",
        "num_docs = matrix.shape[1]\n",
        "for i in range(num_docs):\n",
        "    for j in range(i + 1, num_docs):\n",
        "        cosine_sim = calculate_cosine_similarity(i, j, matrix)\n",
        "        print(f\"Cosine similarity between document {i} and {j}: {cosine_sim}\")"
      ],
      "metadata": {
        "colab": {
          "base_uri": "https://localhost:8080/"
        },
        "id": "qM6zVEiCmDoK",
        "outputId": "980d950c-274f-4d98-f57e-f0c5de516528"
      },
      "execution_count": 17,
      "outputs": [
        {
          "output_type": "stream",
          "name": "stdout",
          "text": [
            "Cosine Similarity between documents 0 and 1: 0.20851441405707474\n",
            "Cosine similarity between document 0 and 1: 0.20851441405707474\n",
            "Cosine similarity between document 0 and 2: 0.20851441405707474\n",
            "Cosine similarity between document 1 and 2: 0.9999999999999998\n"
          ]
        }
      ]
    }
  ]
}