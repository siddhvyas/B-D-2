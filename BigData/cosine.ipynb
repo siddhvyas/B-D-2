{
  "nbformat": 4,
  "nbformat_minor": 0,
  "metadata": {
    "colab": {
      "provenance": []
    },
    "kernelspec": {
      "name": "python3",
      "display_name": "Python 3"
    },
    "language_info": {
      "name": "python"
    }
  },
  "cells": [
    {
      "cell_type": "code",
      "source": [
        "from sklearn.neighbors import NearestNeighbors\n",
        "import pandas as pd\n",
        "import numpy as np"
      ],
      "metadata": {
        "id": "NUCQ_CCpd8nG"
      },
      "execution_count": 22,
      "outputs": []
    },
    {
      "cell_type": "code",
      "source": [
        "df = pd.read_csv('sample.csv' ,index_col='UserID')\n",
        "df.fillna(0, inplace=True)\n",
        "print(df.head())"
      ],
      "metadata": {
        "colab": {
          "base_uri": "https://localhost:8080/"
        },
        "id": "V7p13yyFmLkG",
        "outputId": "4f19b263-60ce-4516-f266-3bdf4636d071"
      },
      "execution_count": 25,
      "outputs": [
        {
          "output_type": "stream",
          "name": "stdout",
          "text": [
            "        movie1  movie2  movie3  movie4  movie5  ...  movie8  movie9  movie10  movie11  movie12\n",
            "UserID                                          ...                                           \n",
            "1          1.0     0.0     3.0     4.0     5.0  ...     8.0     9.0     10.0       11     12.0\n",
            "2          1.0     0.0     3.0     0.0     0.0  ...     0.0     5.0      0.0        4      0.0\n",
            "3          0.0     0.0     5.0     4.0     0.0  ...     0.0     0.0      2.0        1      3.0\n",
            "4          2.0     4.0     0.0     1.0     2.0  ...     0.0     4.0      3.0        5      0.0\n",
            "5          0.0     2.0     4.0     0.0     5.0  ...     4.0     0.0      0.0        2      0.0\n",
            "\n",
            "[5 rows x 12 columns]\n"
          ]
        }
      ]
    },
    {
      "cell_type": "code",
      "source": [
        "neighbor = 5\n",
        "knn = NearestNeighbors(metric='cosine' , algorithm='brute')\n",
        "knn.fit(df.values)\n",
        "distance , indices = knn.kneighbors(df.values, n_neighbors=neighbor)"
      ],
      "metadata": {
        "id": "H3Dv7aponV-g"
      },
      "execution_count": 26,
      "outputs": []
    },
    {
      "cell_type": "code",
      "source": [
        "distance"
      ],
      "metadata": {
        "colab": {
          "base_uri": "https://localhost:8080/"
        },
        "id": "kFRu1IaAqIpk",
        "outputId": "c0c7dd6d-f044-467f-f62e-2616d715068d"
      },
      "execution_count": 17,
      "outputs": [
        {
          "output_type": "execute_result",
          "data": {
            "text/plain": [
              "array([[0.00000000e+00, 2.30690347e-01, 3.08468366e-01, 3.21732223e-01,\n",
              "        4.11055195e-01],\n",
              "       [1.11022302e-16, 1.05369922e-01, 4.17807435e-01, 4.74342517e-01,\n",
              "        5.22433067e-01],\n",
              "       [2.22044605e-16, 1.60657276e-01, 3.29922116e-01, 4.11664422e-01,\n",
              "        4.28513111e-01],\n",
              "       [0.00000000e+00, 3.03835808e-01, 3.21732223e-01, 4.12430349e-01,\n",
              "        4.17636465e-01],\n",
              "       [0.00000000e+00, 1.45957519e-01, 2.05564973e-01, 3.48537658e-01,\n",
              "        4.32582961e-01],\n",
              "       [1.11022302e-16, 1.99038269e-01, 3.27172586e-01, 3.29922116e-01,\n",
              "        3.48537658e-01],\n",
              "       [1.11022302e-16, 1.45957519e-01, 1.69743306e-01, 3.27172586e-01,\n",
              "        3.44576410e-01],\n",
              "       [1.11022302e-16, 1.05369922e-01, 3.45828863e-01, 4.12430349e-01,\n",
              "        4.41122707e-01],\n",
              "       [0.00000000e+00, 1.60657276e-01, 2.30690347e-01, 2.48746866e-01,\n",
              "        3.99105441e-01],\n",
              "       [0.00000000e+00, 2.48746866e-01, 2.84011851e-01, 3.03835808e-01,\n",
              "        3.08468366e-01],\n",
              "       [0.00000000e+00, 1.69743306e-01, 1.99038269e-01, 2.05564973e-01,\n",
              "        2.84011851e-01]])"
            ]
          },
          "metadata": {},
          "execution_count": 17
        }
      ]
    },
    {
      "cell_type": "code",
      "source": [
        "indices"
      ],
      "metadata": {
        "colab": {
          "base_uri": "https://localhost:8080/"
        },
        "id": "1XMvE6pXsZ3t",
        "outputId": "81b2452b-8ab4-4ba7-e247-7568db2f22d4"
      },
      "execution_count": 28,
      "outputs": [
        {
          "output_type": "execute_result",
          "data": {
            "text/plain": [
              "array([[ 0,  8,  9,  3,  5],\n",
              "       [ 1,  7,  0,  3,  6],\n",
              "       [ 2,  8,  5,  0,  9],\n",
              "       [ 3,  9,  0,  7, 10],\n",
              "       [ 4,  6, 10,  5,  9],\n",
              "       [ 5, 10,  6,  2,  4],\n",
              "       [ 6,  4, 10,  5,  9],\n",
              "       [ 7,  1,  6,  3,  9],\n",
              "       [ 8,  2,  0,  9,  5],\n",
              "       [ 9,  8, 10,  3,  0],\n",
              "       [10,  6,  5,  4,  9]])"
            ]
          },
          "metadata": {},
          "execution_count": 28
        }
      ]
    },
    {
      "cell_type": "code",
      "source": [
        "similarity = 1 - distance\n",
        "similarity"
      ],
      "metadata": {
        "colab": {
          "base_uri": "https://localhost:8080/"
        },
        "id": "fWTbvS_OrfPW",
        "outputId": "ce3ab405-9a7f-4446-e852-0f5d08b7ac3f"
      },
      "execution_count": 27,
      "outputs": [
        {
          "output_type": "execute_result",
          "data": {
            "text/plain": [
              "array([[1.        , 0.76930965, 0.69153163, 0.67826778, 0.58894481],\n",
              "       [1.        , 0.89463008, 0.58219257, 0.52565748, 0.47756693],\n",
              "       [1.        , 0.83934272, 0.67007788, 0.58833558, 0.57148689],\n",
              "       [1.        , 0.69616419, 0.67826778, 0.58756965, 0.58236353],\n",
              "       [1.        , 0.85404248, 0.79443503, 0.65146234, 0.56741704],\n",
              "       [1.        , 0.80096173, 0.67282741, 0.67007788, 0.65146234],\n",
              "       [1.        , 0.85404248, 0.83025669, 0.67282741, 0.65542359],\n",
              "       [1.        , 0.89463008, 0.65417114, 0.58756965, 0.55887729],\n",
              "       [1.        , 0.83934272, 0.76930965, 0.75125313, 0.60089456],\n",
              "       [1.        , 0.75125313, 0.71598815, 0.69616419, 0.69153163],\n",
              "       [1.        , 0.83025669, 0.80096173, 0.79443503, 0.71598815]])"
            ]
          },
          "metadata": {},
          "execution_count": 27
        }
      ]
    },
    {
      "cell_type": "code",
      "source": [
        "def predict_rating(user_id, movie_id):\n",
        "    user_index = df.index.get_loc(user_id)\n",
        "    movie_index = df.columns.get_loc(movie_id)  # Assuming movie_id is a column name\n",
        "\n",
        "    # Get the neighbors for the given user\n",
        "    neighbors = indices[user_index]\n",
        "\n",
        "    # Calculate the weighted average of ratings from similar users for the movie\n",
        "    weighted_sum = 0\n",
        "    similarity_sum = 0\n",
        "\n",
        "    for neighbor_index in neighbors:\n",
        "        if df.iloc[neighbor_index, movie_index] != 0: # Check for rating from neighbor\n",
        "          weighted_sum += similarity[user_index, np.where(neighbors == neighbor_index)[0][0]] * df.iloc[neighbor_index, movie_index]\n",
        "          similarity_sum += similarity[user_index, np.where(neighbors == neighbor_index)[0][0]]\n",
        "\n",
        "    if similarity_sum == 0:\n",
        "        return 0  # Or handle the case where no similar users rated the movie\n",
        "    else:\n",
        "        return weighted_sum / similarity_sum\n",
        "\n",
        "\n",
        "# Predict the rating for user1 for movie2\n",
        "user1_movie2_rating = predict_rating(2, 'movie8')\n",
        "print(f\"Predicted rating for user 1 for movie 2: {user1_movie2_rating}\")\n"
      ],
      "metadata": {
        "colab": {
          "base_uri": "https://localhost:8080/"
        },
        "id": "6ZwrQ3O0teTf",
        "outputId": "44714e9d-6ab6-46c3-efc8-374ebdab4a8b"
      },
      "execution_count": 32,
      "outputs": [
        {
          "output_type": "stream",
          "name": "stdout",
          "text": [
            "Predicted rating for user 1 for movie 2: 5.296177479644565\n"
          ]
        }
      ]
    }
  ]
}