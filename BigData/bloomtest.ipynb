{
  "nbformat": 4,
  "nbformat_minor": 0,
  "metadata": {
    "colab": {
      "provenance": []
    },
    "kernelspec": {
      "name": "python3",
      "display_name": "Python 3"
    },
    "language_info": {
      "name": "python"
    }
  },
  "cells": [
    {
      "cell_type": "code",
      "execution_count": null,
      "metadata": {
        "colab": {
          "base_uri": "https://localhost:8080/",
          "height": 439
        },
        "id": "VVco4xwFklqh",
        "outputId": "b4af84d1-7f89-47ca-c387-6410f2b1e5ae"
      },
      "outputs": [
        {
          "output_type": "stream",
          "name": "stdout",
          "text": [
            "Drive already mounted at /content/drive; to attempt to forcibly remount, call drive.mount(\"/content/drive\", force_remount=True).\n"
          ]
        },
        {
          "output_type": "error",
          "ename": "ModuleNotFoundError",
          "evalue": "No module named 'bloomfilter'",
          "traceback": [
            "\u001b[0;31m---------------------------------------------------------------------------\u001b[0m",
            "\u001b[0;31mModuleNotFoundError\u001b[0m                       Traceback (most recent call last)",
            "\u001b[0;32m<ipython-input-9-c2f217d8911c>\u001b[0m in \u001b[0;36m<cell line: 0>\u001b[0;34m()\u001b[0m\n\u001b[1;32m      5\u001b[0m \u001b[0;32mimport\u001b[0m \u001b[0msys\u001b[0m\u001b[0;34m\u001b[0m\u001b[0;34m\u001b[0m\u001b[0m\n\u001b[1;32m      6\u001b[0m \u001b[0msys\u001b[0m\u001b[0;34m.\u001b[0m\u001b[0mpath\u001b[0m\u001b[0;34m.\u001b[0m\u001b[0mappend\u001b[0m\u001b[0;34m(\u001b[0m\u001b[0;34m'/content/drive/My Drive/'\u001b[0m\u001b[0;34m)\u001b[0m \u001b[0;31m# Replace with the actual path to your file\u001b[0m\u001b[0;34m\u001b[0m\u001b[0;34m\u001b[0m\u001b[0m\n\u001b[0;32m----> 7\u001b[0;31m \u001b[0;32mfrom\u001b[0m \u001b[0mbloomfilter\u001b[0m \u001b[0;32mimport\u001b[0m \u001b[0mBloomFilter\u001b[0m\u001b[0;34m\u001b[0m\u001b[0;34m\u001b[0m\u001b[0m\n\u001b[0m\u001b[1;32m      8\u001b[0m \u001b[0;32mfrom\u001b[0m \u001b[0mrandom\u001b[0m \u001b[0;32mimport\u001b[0m \u001b[0mshuffle\u001b[0m\u001b[0;34m\u001b[0m\u001b[0;34m\u001b[0m\u001b[0m\n\u001b[1;32m      9\u001b[0m \u001b[0;34m\u001b[0m\u001b[0m\n",
            "\u001b[0;31mModuleNotFoundError\u001b[0m: No module named 'bloomfilter'",
            "",
            "\u001b[0;31m---------------------------------------------------------------------------\u001b[0;32m\nNOTE: If your import is failing due to a missing package, you can\nmanually install dependencies using either !pip or !apt.\n\nTo view examples of installing some common dependencies, click the\n\"Open Examples\" button below.\n\u001b[0;31m---------------------------------------------------------------------------\u001b[0m\n"
          ],
          "errorDetails": {
            "actions": [
              {
                "action": "open_url",
                "actionText": "Open Examples",
                "url": "/notebooks/snippets/importing_libraries.ipynb"
              }
            ]
          }
        }
      ],
      "source": [
        "from google.colab import drive\n",
        "drive.mount('/content/drive')\n",
        "\n",
        "# Assuming the bloomfilter.py file is in your Google Drive at '/content/drive/My Drive/bloomfilter.py'\n",
        "import sys\n",
        "sys.path.append('/content/drive/My Drive/') # Replace with the actual path to your file\n",
        "from bloomfilter import BloomFilter\n",
        "from random import shuffle\n",
        "\n",
        "n = 20 #no of items to add\n",
        "p = 0.05 #false positive probability\n",
        "\n",
        "bloomf = BloomFilter(n,p)\n",
        "print(\"Size of bit array:{}\".format(bloomf.size))\n",
        "print(\"False positive Probability:{}\".format(bloomf.fp_prob))\n",
        "print(\"Number of hash functions:{}\".format(bloomf.hash_count))\n",
        "\n",
        "# words to be added\n",
        "word_present = ['abound','abounds','abundance','abundant','accessible',\n",
        "                'bloom','blossom','bolster','bonny','bonus','bonuses',\n",
        "                'coherent','cohesive','colorful','comely','comfort',\n",
        "                'gems','generosity','generous','generously','genial']\n",
        "\n",
        "# word not added\n",
        "word_absent = ['bluff','cheater','hate','war','humanity',\n",
        "               'racism','hurt','nuke','gloomy','facebook',\n",
        "               'geeksforgeeks','twitter']\n",
        "\n",
        "for item in word_present:\n",
        "    bloomf.add(item)\n",
        "\n",
        "shuffle(word_present)\n",
        "shuffle(word_absent)\n",
        "\n",
        "test_words = word_present[:10] + word_absent\n",
        "shuffle(test_words)\n",
        "for word in test_words:\n",
        "    if bloomf.check(word):\n",
        "        if word in word_absent:\n",
        "            print(\"'{}' is a false positive!\".format(word))\n",
        "        else:\n",
        "            print(\"'{}' is probably present!\".format(word))\n",
        "    else:\n",
        "        print(\"'{}' is definitely not present!\".format(word))\n"
      ]
    }
  ]
}