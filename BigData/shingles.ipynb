{
  "nbformat": 4,
  "nbformat_minor": 0,
  "metadata": {
    "colab": {
      "provenance": []
    },
    "kernelspec": {
      "name": "python3",
      "display_name": "Python 3"
    },
    "language_info": {
      "name": "python"
    }
  },
  "cells": [
    {
      "cell_type": "code",
      "execution_count": 1,
      "metadata": {
        "id": "qEEBoT9DZGSu"
      },
      "outputs": [],
      "source": [
        "text = \"\"\"Whose woods these are I think I know.\n",
        "\n",
        "His house is in the village though;\n",
        "\n",
        "He will not see me stopping here\n",
        "\n",
        "To watch his woods fill up with snow.\n",
        "\n",
        "My little horse must think it queer\n",
        "\n",
        "To stop without a farmhouse near\n",
        "\n",
        "Between the woods and frozen lake\n",
        "\n",
        "The darkest evening of the year.\n",
        "\n",
        "He gives his harness bells a shake\n",
        "\n",
        "To ask if there is some mistake.\n",
        "\n",
        "The only other sound’s the sweep\n",
        "\n",
        "Of easy wind and downy flake.\n",
        "\n",
        "The woods are lovely, dark and deep,\n",
        "\n",
        "But I have promises to keep,\n",
        "\n",
        "And miles to go before I sleep,\n",
        "\n",
        "And miles to go before I sleep.\"\"\""
      ]
    },
    {
      "cell_type": "code",
      "source": [
        "shingles = text.split()\n",
        "print(shingles)"
      ],
      "metadata": {
        "colab": {
          "base_uri": "https://localhost:8080/"
        },
        "id": "THOMJspLZXJL",
        "outputId": "16e2ae1a-a966-4129-e96b-dbc23a3f25fb"
      },
      "execution_count": 11,
      "outputs": [
        {
          "output_type": "stream",
          "name": "stdout",
          "text": [
            "['Whose', 'woods', 'these', 'are', 'I', 'think', 'I', 'know.', 'His', 'house', 'is', 'in', 'the', 'village', 'though;', 'He', 'will', 'not', 'see', 'me', 'stopping', 'here', 'To', 'watch', 'his', 'woods', 'fill', 'up', 'with', 'snow.', 'My', 'little', 'horse', 'must', 'think', 'it', 'queer', 'To', 'stop', 'without', 'a', 'farmhouse', 'near', 'Between', 'the', 'woods', 'and', 'frozen', 'lake', 'The', 'darkest', 'evening', 'of', 'the', 'year.', 'He', 'gives', 'his', 'harness', 'bells', 'a', 'shake', 'To', 'ask', 'if', 'there', 'is', 'some', 'mistake.', 'The', 'only', 'other', 'sound’s', 'the', 'sweep', 'Of', 'easy', 'wind', 'and', 'downy', 'flake.', 'The', 'woods', 'are', 'lovely,', 'dark', 'and', 'deep,', 'But', 'I', 'have', 'promises', 'to', 'keep,', 'And', 'miles', 'to', 'go', 'before', 'I', 'sleep,', 'And', 'miles', 'to', 'go', 'before', 'I', 'sleep.']\n"
          ]
        }
      ]
    },
    {
      "cell_type": "code",
      "source": [
        "# from itertools import groupby\n",
        "# res = [list(y) for x, y in groupby(shingles)]\n",
        "# print(res)"
      ],
      "metadata": {
        "colab": {
          "base_uri": "https://localhost:8080/"
        },
        "id": "oUjMswNuZfne",
        "outputId": "c4f136b3-4f51-4b52-9491-44e50530fb18"
      },
      "execution_count": 7,
      "outputs": [
        {
          "output_type": "stream",
          "name": "stdout",
          "text": [
            "[['And', 'And'], ['Between'], ['But'], ['He', 'He'], ['His'], ['I', 'I', 'I', 'I', 'I'], ['My'], ['Of'], ['The', 'The', 'The'], ['To', 'To', 'To'], ['Whose'], ['a', 'a'], ['and', 'and', 'and'], ['are', 'are'], ['ask'], ['before', 'before'], ['bells'], ['dark'], ['darkest'], ['deep,'], ['downy'], ['easy'], ['evening'], ['farmhouse'], ['fill'], ['flake.'], ['frozen'], ['gives'], ['go', 'go'], ['harness'], ['have'], ['here'], ['his', 'his'], ['horse'], ['house'], ['if'], ['in'], ['is', 'is'], ['it'], ['keep,'], ['know.'], ['lake'], ['little'], ['lovely,'], ['me'], ['miles', 'miles'], ['mistake.'], ['must'], ['near'], ['not'], ['of'], ['only'], ['other'], ['promises'], ['queer'], ['see'], ['shake'], ['sleep,'], ['sleep.'], ['snow.'], ['some'], ['sound’s'], ['stop'], ['stopping'], ['sweep'], ['the', 'the', 'the', 'the'], ['there'], ['these'], ['think', 'think'], ['though;'], ['to', 'to', 'to'], ['up'], ['village'], ['watch'], ['will'], ['wind'], ['with'], ['without'], ['woods', 'woods', 'woods', 'woods'], ['year.']]\n"
          ]
        }
      ]
    },
    {
      "cell_type": "code",
      "source": [
        "shingleLength = 2\n",
        "print( [shingles[i:i+shingleLength] for i in range(len(shingles) - shingleLength + 1) if len(shingles[i]) < 3])"
      ],
      "metadata": {
        "colab": {
          "base_uri": "https://localhost:8080/"
        },
        "id": "wVAhjyUkcS3s",
        "outputId": "1d28a3bf-849e-4308-9450-472e60cf4e72"
      },
      "execution_count": 14,
      "outputs": [
        {
          "output_type": "stream",
          "name": "stdout",
          "text": [
            "[['I', 'think'], ['I', 'know.'], ['is', 'in'], ['in', 'the'], ['He', 'will'], ['me', 'stopping'], ['To', 'watch'], ['up', 'with'], ['My', 'little'], ['it', 'queer'], ['To', 'stop'], ['a', 'farmhouse'], ['of', 'the'], ['He', 'gives'], ['a', 'shake'], ['To', 'ask'], ['if', 'there'], ['is', 'some'], ['Of', 'easy'], ['I', 'have'], ['to', 'keep,'], ['to', 'go'], ['go', 'before'], ['I', 'sleep,'], ['to', 'go'], ['go', 'before'], ['I', 'sleep.']]\n"
          ]
        }
      ]
    },
    {
      "cell_type": "code",
      "source": [],
      "metadata": {
        "id": "qIG-Hpq1cWCx"
      },
      "execution_count": null,
      "outputs": []
    }
  ]
}