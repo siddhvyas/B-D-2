{
  "nbformat": 4,
  "nbformat_minor": 0,
  "metadata": {
    "colab": {
      "provenance": []
    },
    "kernelspec": {
      "name": "python3",
      "display_name": "Python 3"
    },
    "language_info": {
      "name": "python"
    }
  },
  "cells": [
    {
      "cell_type": "code",
      "execution_count": null,
      "metadata": {
        "id": "jEHK8ELsx0yD"
      },
      "outputs": [],
      "source": [
        "stream = [1, 2, 7, 1, 4, 9, 4, 6, 1, 6, 4, 4, 5, 5, 5, 9, 8, 7, 2, 2, 4, 4, 1]\n",
        "x0 = 1\n",
        "x1 = 5\n",
        "x2 = 8\n",
        "n = len(stream)\n",
        "\n",
        "def count_occurrences(stream, pos):\n",
        "  element = stream[pos-1]\n",
        "  return sum(1 for elem in stream[pos-1:] if elem == element)"
      ]
    },
    {
      "cell_type": "code",
      "source": [
        "data = {'x': [x0, x1, x2], 'x.el': [stream[x0-1], stream[x1-1], stream[x2-1]]}\n",
        "data['x.val'] = [count_occurrences(stream, x) for x in data['x']]\n",
        "data['n(2*x.val-1)'] = [n * (2 *val-1) for val in data['x.val']]\n",
        "average = sum(data['n(2*x.val-1)']) / len(data['n(2*x.val-1)'])"
      ],
      "metadata": {
        "id": "tJDwrl3pymM5"
      },
      "execution_count": null,
      "outputs": []
    },
    {
      "cell_type": "code",
      "source": [
        "import pandas as pd\n",
        "print(pd.DataFrame(data))\n",
        "print(f\"\\nResult = {average}\")"
      ],
      "metadata": {
        "colab": {
          "base_uri": "https://localhost:8080/"
        },
        "id": "DNqvig51y9KC",
        "outputId": "405d4bad-1080-4365-d811-1d955290e113"
      },
      "execution_count": null,
      "outputs": [
        {
          "output_type": "stream",
          "name": "stdout",
          "text": [
            "   x  x.el  x.val  n(2*x.val-1)\n",
            "0  1     1      4           161\n",
            "1  5     4      6           253\n",
            "2  8     6      2            69\n",
            "\n",
            "Result = 161.0\n"
          ]
        }
      ]
    }
  ]
}