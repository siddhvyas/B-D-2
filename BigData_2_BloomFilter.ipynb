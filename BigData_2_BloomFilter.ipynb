{
  "nbformat": 4,
  "nbformat_minor": 0,
  "metadata": {
    "colab": {
      "provenance": []
    },
    "kernelspec": {
      "name": "python3",
      "display_name": "Python 3"
    },
    "language_info": {
      "name": "python"
    }
  },
  "cells": [
    {
      "cell_type": "code",
      "source": [
        "import pandas as pd\n",
        "\n",
        "bit_array = 13\n",
        "bloom_filter = [0] * bit_array\n",
        "hash1 = lambda x: (x + 1) % 13\n",
        "hash2 = lambda x: (2 * x + 5) % 13\n",
        "numbers = [8, 17, 25, 9, 20]"
      ],
      "metadata": {
        "id": "iVY3HgovrPGX"
      },
      "execution_count": null,
      "outputs": []
    },
    {
      "cell_type": "code",
      "source": [
        "for num in numbers:\n",
        "  index1 = hash1(num)\n",
        "  index2 = hash2(num)\n",
        "  bloom_filter[index1] = 1\n",
        "  bloom_filter[index2] = 1\n",
        "  data = {'Number': numbers, 'Hash1': [hash1(x) for x in numbers], 'Hash2': [hash2(x) for x in numbers]}\n",
        "  print(pd.DataFrame(data))\n",
        "  print(\"\\nBloom filter values:\", bloom_filter)"
      ],
      "metadata": {
        "colab": {
          "base_uri": "https://localhost:8080/"
        },
        "id": "0ZRJJB8Irj4T",
        "outputId": "0180a637-6d88-4e7f-dc61-792e23a4fd6b"
      },
      "execution_count": null,
      "outputs": [
        {
          "output_type": "stream",
          "name": "stdout",
          "text": [
            "   Number  Hash1  Hash2\n",
            "0       8      9      8\n",
            "1      17      5      0\n",
            "2      25      0      3\n",
            "3       9     10     10\n",
            "4      20      8      6\n",
            "\n",
            "Bloom filter values: [1, 0, 0, 1, 0, 1, 1, 0, 1, 1, 1, 0, 0]\n",
            "   Number  Hash1  Hash2\n",
            "0       8      9      8\n",
            "1      17      5      0\n",
            "2      25      0      3\n",
            "3       9     10     10\n",
            "4      20      8      6\n",
            "\n",
            "Bloom filter values: [1, 0, 0, 1, 0, 1, 1, 0, 1, 1, 1, 0, 0]\n",
            "   Number  Hash1  Hash2\n",
            "0       8      9      8\n",
            "1      17      5      0\n",
            "2      25      0      3\n",
            "3       9     10     10\n",
            "4      20      8      6\n",
            "\n",
            "Bloom filter values: [1, 0, 0, 1, 0, 1, 1, 0, 1, 1, 1, 0, 0]\n",
            "   Number  Hash1  Hash2\n",
            "0       8      9      8\n",
            "1      17      5      0\n",
            "2      25      0      3\n",
            "3       9     10     10\n",
            "4      20      8      6\n",
            "\n",
            "Bloom filter values: [1, 0, 0, 1, 0, 1, 1, 0, 1, 1, 1, 0, 0]\n",
            "   Number  Hash1  Hash2\n",
            "0       8      9      8\n",
            "1      17      5      0\n",
            "2      25      0      3\n",
            "3       9     10     10\n",
            "4      20      8      6\n",
            "\n",
            "Bloom filter values: [1, 0, 0, 1, 0, 1, 1, 0, 1, 1, 1, 0, 0]\n"
          ]
        }
      ]
    },
    {
      "cell_type": "code",
      "source": [
        "check_num = 17\n",
        "check1 = hash1(check_num)\n",
        "check2 = hash2(check_num)\n",
        "print(f\"\\nCheck for new number {check_num}.\")\n",
        "if bloom_filter[check1] == 1 and bloom_filter[check2] == 1:\n",
        "  print(f\"Result: {check_num} might be in the set (Possible False Positive)\")\n",
        "else:\n",
        "  print(f\"Result: {check_num} is definitely not in the set\")\n",
        "  print(f\"Hash values of new number are hash1 = {check1} and hash2 = {check2}.\")"
      ],
      "metadata": {
        "id": "evePBMfFu2l8",
        "outputId": "e63b8665-c641-41f2-a0ad-791325049f84",
        "colab": {
          "base_uri": "https://localhost:8080/"
        }
      },
      "execution_count": null,
      "outputs": [
        {
          "output_type": "stream",
          "name": "stdout",
          "text": [
            "\n",
            "Check for new number 17.\n",
            "Result: 17 might be in the set (Possible False Positive)\n"
          ]
        }
      ]
    },
    {
      "cell_type": "code",
      "execution_count": null,
      "metadata": {
        "id": "1z74PL_VNp_T",
        "colab": {
          "base_uri": "https://localhost:8080/"
        },
        "outputId": "fc7f366e-220e-4595-9aeb-7c2aea215305"
      },
      "outputs": [
        {
          "output_type": "stream",
          "name": "stdout",
          "text": [
            "Collecting mmh3\n",
            "  Downloading mmh3-5.1.0-cp311-cp311-manylinux_2_5_x86_64.manylinux1_x86_64.manylinux_2_17_x86_64.manylinux2014_x86_64.whl.metadata (16 kB)\n",
            "Downloading mmh3-5.1.0-cp311-cp311-manylinux_2_5_x86_64.manylinux1_x86_64.manylinux_2_17_x86_64.manylinux2014_x86_64.whl (101 kB)\n",
            "\u001b[?25l   \u001b[90m━━━━━━━━━━━━━━━━━━━━━━━━━━━━━━━━━━━━━━━━\u001b[0m \u001b[32m0.0/101.6 kB\u001b[0m \u001b[31m?\u001b[0m eta \u001b[36m-:--:--\u001b[0m\r\u001b[2K   \u001b[90m━━━━━━━━━━━━━━━━━━━━━━━━━━━━━━━━━━━━━━━━\u001b[0m \u001b[32m101.6/101.6 kB\u001b[0m \u001b[31m6.9 MB/s\u001b[0m eta \u001b[36m0:00:00\u001b[0m\n",
            "\u001b[?25hInstalling collected packages: mmh3\n",
            "Successfully installed mmh3-5.1.0\n",
            "Collecting bitarray\n",
            "  Downloading bitarray-3.2.0-cp311-cp311-manylinux_2_17_x86_64.manylinux2014_x86_64.whl.metadata (32 kB)\n",
            "Downloading bitarray-3.2.0-cp311-cp311-manylinux_2_17_x86_64.manylinux2014_x86_64.whl (303 kB)\n",
            "\u001b[2K   \u001b[90m━━━━━━━━━━━━━━━━━━━━━━━━━━━━━━━━━━━━━━━━\u001b[0m \u001b[32m303.1/303.1 kB\u001b[0m \u001b[31m18.0 MB/s\u001b[0m eta \u001b[36m0:00:00\u001b[0m\n",
            "\u001b[?25hInstalling collected packages: bitarray\n",
            "Successfully installed bitarray-3.2.0\n"
          ]
        }
      ],
      "source": [
        "!pip install mmh3\n",
        "!pip install bitarray"
      ]
    },
    {
      "cell_type": "code",
      "source": [
        "class BloomFilter:\n",
        "    def __init__(self, size, hash_count):\n",
        "        self.size = size\n",
        "        self.hash_count = hash_count\n",
        "        self.bit_array = [0] * self.size\n",
        "\n",
        "    def _hash1(self, item):\n",
        "        return hash(item) % self.size\n",
        "\n",
        "    def _hash2(self, item):\n",
        "        return (hash(item) * 31) % self.size\n",
        "\n",
        "    def _hash3(self, item):\n",
        "        return (hash(item) * 17) % self.size\n",
        "\n",
        "    def _hash(self, item, i):\n",
        "        if i == 0:\n",
        "            return self._hash1(item)\n",
        "        elif i == 1:\n",
        "            return self._hash2(item)\n",
        "        elif i == 2:\n",
        "            return self._hash3(item)\n",
        "\n",
        "    def add(self, item):\n",
        "        for i in range(self.hash_count):\n",
        "            index = self._hash(item, i)\n",
        "            self.bit_array[index] = 1\n",
        "\n",
        "    def check(self, item):\n",
        "        for i in range(self.hash_count):\n",
        "            index = self._hash(item, i)\n",
        "            if self.bit_array[index] == 0:\n",
        "                return False\n",
        "        return True"
      ],
      "metadata": {
        "id": "YbrmzrEzRA1_"
      },
      "execution_count": null,
      "outputs": []
    },
    {
      "cell_type": "code",
      "source": [
        "bloom_filter = BloomFilter(size=1000, hash_count=3)\n",
        "\n",
        "items_to_add = [\"apple\", \"banana\", \"orange\"]\n",
        "for item in items_to_add:\n",
        "  bloom_filter.add(item)\n",
        "\n",
        "test_items = [\"apple\", \"banana\", \"cherry\", \"pineapple\"]\n",
        "for item in test_items:\n",
        "  if bloom_filter.check(item):\n",
        "    print(f\"{item} is possibly in the set\")\n",
        "  else:\n",
        "    print(f\"{item} is definitely not in the set\")"
      ],
      "metadata": {
        "colab": {
          "base_uri": "https://localhost:8080/"
        },
        "id": "o4Tz5NsbSq4N",
        "outputId": "e39a1a00-7d55-4785-bb06-c042d93b23d5"
      },
      "execution_count": null,
      "outputs": [
        {
          "output_type": "stream",
          "name": "stdout",
          "text": [
            "apple is possibly in the set\n",
            "banana is possibly in the set\n",
            "cherry is definitely not in the set\n",
            "pineapple is definitely not in the set\n"
          ]
        }
      ]
    }
  ]
}