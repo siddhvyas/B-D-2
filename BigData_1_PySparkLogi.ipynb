{
  "nbformat": 4,
  "nbformat_minor": 0,
  "metadata": {
    "colab": {
      "provenance": []
    },
    "kernelspec": {
      "name": "python3",
      "display_name": "Python 3"
    },
    "language_info": {
      "name": "python"
    }
  },
  "cells": [
    {
      "cell_type": "code",
      "execution_count": null,
      "metadata": {
        "id": "iPFvpuzEpOwd"
      },
      "outputs": [],
      "source": [
        "!apt-get install openjdk-8-jdk-headless -qq > /dev/null\n",
        "!wget -q http://archive.apache.org/dist/spark/spark-3.1.1/spark-3.1.1-bin-hadoop3.2.tgz\n",
        "!tar xf spark-3.1.1-bin-hadoop3.2.tgz\n",
        "!pip install -q findspark"
      ]
    },
    {
      "cell_type": "code",
      "source": [
        "import os\n",
        "os.environ[\"JAVA_HOME\"] = \"/usr/lib/jvm/java-8-openjdk-amd64\"\n",
        "os.environ[\"SPARK_HOME\"] = \"/content/spark-3.1.1-bin-hadoop3.2\""
      ],
      "metadata": {
        "id": "zgeQwJzkpW-n"
      },
      "execution_count": null,
      "outputs": []
    },
    {
      "cell_type": "code",
      "source": [
        "import findspark\n",
        "findspark.init()\n",
        "from pyspark.sql import SparkSession\n",
        "from pyspark import SparkContext\n",
        "spark = SparkSession.builder.appName('deeplearn').getOrCreate()"
      ],
      "metadata": {
        "id": "vAg_QyktpZqs"
      },
      "execution_count": null,
      "outputs": []
    },
    {
      "cell_type": "code",
      "source": [
        "!wget https://raw.githubusercontent.com/neelamdoshi/Spark_neelam/main/diabetes.csv"
      ],
      "metadata": {
        "colab": {
          "base_uri": "https://localhost:8080/"
        },
        "id": "jeeTL7c6sSwS",
        "outputId": "ae48c655-be7c-44dc-a2f4-a9ee80639d7c"
      },
      "execution_count": null,
      "outputs": [
        {
          "output_type": "stream",
          "name": "stdout",
          "text": [
            "--2025-03-20 16:42:12--  https://raw.githubusercontent.com/neelamdoshi/Spark_neelam/main/diabetes.csv\n",
            "Resolving raw.githubusercontent.com (raw.githubusercontent.com)... 185.199.108.133, 185.199.109.133, 185.199.110.133, ...\n",
            "Connecting to raw.githubusercontent.com (raw.githubusercontent.com)|185.199.108.133|:443... connected.\n",
            "HTTP request sent, awaiting response... 200 OK\n",
            "Length: 23875 (23K) [text/plain]\n",
            "Saving to: ‘diabetes.csv’\n",
            "\n",
            "\rdiabetes.csv          0%[                    ]       0  --.-KB/s               \rdiabetes.csv        100%[===================>]  23.32K  --.-KB/s    in 0s      \n",
            "\n",
            "2025-03-20 16:42:13 (75.9 MB/s) - ‘diabetes.csv’ saved [23875/23875]\n",
            "\n"
          ]
        }
      ]
    },
    {
      "cell_type": "code",
      "source": [
        "# read a csv file\n",
        "my_data = spark.read.csv('diabetes.csv',header=True)\n",
        "\n",
        "# see the default schema of the dataframe\n",
        "my_data.printSchema()"
      ],
      "metadata": {
        "colab": {
          "base_uri": "https://localhost:8080/"
        },
        "id": "ssPhuyybsUNu",
        "outputId": "f4f85c28-a07a-420d-ca7f-0c9745eb06ae"
      },
      "execution_count": null,
      "outputs": [
        {
          "output_type": "stream",
          "name": "stdout",
          "text": [
            "root\n",
            " |-- Pregnancies: string (nullable = true)\n",
            " |-- Glucose: string (nullable = true)\n",
            " |-- BloodPressure: string (nullable = true)\n",
            " |-- SkinThickness: string (nullable = true)\n",
            " |-- Insulin: string (nullable = true)\n",
            " |-- BMI: string (nullable = true)\n",
            " |-- DiabetesPedigreeFunction: string (nullable = true)\n",
            " |-- Age: string (nullable = true)\n",
            " |-- Outcome: string (nullable = true)\n",
            "\n"
          ]
        }
      ]
    },
    {
      "cell_type": "code",
      "source": [
        "import pyspark.sql.types as tp\n",
        "\n",
        "# define the schema\n",
        "my_schema = tp.StructType([\n",
        "    tp.StructField(name= 'Pregnancies', dataType= tp.IntegerType(),   nullable= True),\n",
        "    tp.StructField(name= 'Glucose', dataType= tp.IntegerType(),    nullable= True),\n",
        "    tp.StructField(name= 'BloodPressure',       dataType= tp.IntegerType(),   nullable= True),\n",
        "    tp.StructField(name= 'SkinThickness',  dataType= tp.IntegerType(),    nullable= True),\n",
        "    tp.StructField(name= 'Insulin',   dataType= tp.IntegerType(),    nullable= True),\n",
        "    tp.StructField(name= 'BMI',       dataType= tp.DoubleType(),    nullable= True),\n",
        "    tp.StructField(name= 'DiabetesPedigreeFunction',    dataType= tp.DoubleType(),   nullable= True),\n",
        "    tp.StructField(name= 'Age',           dataType= tp.IntegerType(),   nullable= True),\n",
        "    tp.StructField(name= 'Outcome',       dataType= tp.IntegerType(),   nullable= True)\n",
        "])\n",
        "\n",
        "# read the data again with the defined schema\n",
        "my_data = spark.read.csv('diabetes.csv',schema= my_schema,header= True)\n",
        "\n",
        "# print the schema\n",
        "my_data.printSchema()"
      ],
      "metadata": {
        "colab": {
          "base_uri": "https://localhost:8080/"
        },
        "id": "ZVhEKh7nsfao",
        "outputId": "5f2bc7d3-a741-46ca-90a5-c3296defb683"
      },
      "execution_count": null,
      "outputs": [
        {
          "output_type": "stream",
          "name": "stdout",
          "text": [
            "root\n",
            " |-- Pregnancies: integer (nullable = true)\n",
            " |-- Glucose: integer (nullable = true)\n",
            " |-- BloodPressure: integer (nullable = true)\n",
            " |-- SkinThickness: integer (nullable = true)\n",
            " |-- Insulin: integer (nullable = true)\n",
            " |-- BMI: double (nullable = true)\n",
            " |-- DiabetesPedigreeFunction: double (nullable = true)\n",
            " |-- Age: integer (nullable = true)\n",
            " |-- Outcome: integer (nullable = true)\n",
            "\n"
          ]
        }
      ]
    },
    {
      "cell_type": "code",
      "source": [
        "# get the dimensions of the data\n",
        "(my_data.count() , len(my_data.columns))\n"
      ],
      "metadata": {
        "colab": {
          "base_uri": "https://localhost:8080/"
        },
        "id": "GA5FSMePtVEJ",
        "outputId": "6f6ac56a-90d4-450a-8e73-740a3c2a284a"
      },
      "execution_count": null,
      "outputs": [
        {
          "output_type": "execute_result",
          "data": {
            "text/plain": [
              "(768, 9)"
            ]
          },
          "metadata": {},
          "execution_count": 8
        }
      ]
    },
    {
      "cell_type": "code",
      "source": [
        "from pyspark.ml.feature import Imputer\n",
        "imputer = Imputer(\n",
        "    inputCols=my_data.columns,\n",
        "    outputCols=[\"{}_imputed\".format(c) for c in my_data.columns]\n",
        "    ).setStrategy(\"median\")\n",
        "\n",
        "\n",
        "my_data1 = imputer.fit(my_data).transform(my_data)"
      ],
      "metadata": {
        "id": "C3pH1wkA5bo2"
      },
      "execution_count": null,
      "outputs": []
    },
    {
      "cell_type": "code",
      "source": [
        "from pyspark.ml.feature import VectorAssembler\n",
        "\n",
        "# specify the input and output columns of the vector assembler\n",
        "assembler = VectorAssembler(inputCols=['Pregnancies',\n",
        "                                       'Glucose',\n",
        "                                       'BloodPressure',\n",
        "                                       'SkinThickness',\n",
        "                                       'Insulin',\n",
        "                                       'BMI',\n",
        "                                       'DiabetesPedigreeFunction',\n",
        "                                       'Age'],\n",
        "                           outputCol='features')\n",
        "\n",
        "\n",
        "# transform the data\n",
        "final_data = assembler.transform(my_data)\n",
        "\n",
        "# view the transformed vector\n",
        "\n",
        "final_data.select(\"features\",\"Outcome\").show(5)"
      ],
      "metadata": {
        "colab": {
          "base_uri": "https://localhost:8080/"
        },
        "id": "Cc1gO9rBu-ho",
        "outputId": "a3379ef4-6340-46a2-f6cf-3798ae7c0302"
      },
      "execution_count": null,
      "outputs": [
        {
          "output_type": "stream",
          "name": "stdout",
          "text": [
            "+--------------------+-------+\n",
            "|            features|Outcome|\n",
            "+--------------------+-------+\n",
            "|[6.0,148.0,72.0,3...|      1|\n",
            "|[1.0,85.0,66.0,29...|      0|\n",
            "|[8.0,183.0,64.0,0...|      1|\n",
            "|[1.0,89.0,66.0,23...|      0|\n",
            "|[0.0,137.0,40.0,3...|      1|\n",
            "+--------------------+-------+\n",
            "only showing top 5 rows\n",
            "\n"
          ]
        }
      ]
    },
    {
      "cell_type": "code",
      "source": [
        "from pyspark.ml.classification import LogisticRegression\n",
        "xtrain, xtest = final_data.randomSplit([0.7, 0.3])\n"
      ],
      "metadata": {
        "id": "Wd6_Jb0dvJjf"
      },
      "execution_count": null,
      "outputs": []
    },
    {
      "cell_type": "code",
      "source": [
        "lr = LogisticRegression(featuresCol = 'features', labelCol = 'Outcome', maxIter=10)"
      ],
      "metadata": {
        "id": "PGCnHlxWDPiL"
      },
      "execution_count": null,
      "outputs": []
    },
    {
      "cell_type": "code",
      "source": [
        "lrModel = lr.fit(xtrain)"
      ],
      "metadata": {
        "id": "_owzZtD9Dz5u"
      },
      "execution_count": null,
      "outputs": []
    },
    {
      "cell_type": "code",
      "source": [
        "predictions = lrModel.transform(xtest)"
      ],
      "metadata": {
        "id": "GBx2sqGFF_hG"
      },
      "execution_count": null,
      "outputs": []
    },
    {
      "cell_type": "code",
      "source": [
        "predictions.show(5)"
      ],
      "metadata": {
        "colab": {
          "base_uri": "https://localhost:8080/"
        },
        "id": "fo2h6fi_GN_x",
        "outputId": "9c7a722a-851a-4815-c7bf-b1e07f9b1ab9"
      },
      "execution_count": null,
      "outputs": [
        {
          "output_type": "stream",
          "name": "stdout",
          "text": [
            "+-----------+-------+-------------+-------------+-------+----+------------------------+---+-------+--------------------+--------------------+--------------------+----------+\n",
            "|Pregnancies|Glucose|BloodPressure|SkinThickness|Insulin| BMI|DiabetesPedigreeFunction|Age|Outcome|            features|       rawPrediction|         probability|prediction|\n",
            "+-----------+-------+-------------+-------------+-------+----+------------------------+---+-------+--------------------+--------------------+--------------------+----------+\n",
            "|          0|     94|           70|           27|    115|43.5|                   0.347| 21|      0|[0.0,94.0,70.0,27...|[1.86711748900000...|[0.86612439447414...|       0.0|\n",
            "|          0|     97|           64|           36|    100|36.8|                     0.6| 25|      0|[0.0,97.0,64.0,36...|[1.88748017005855...|[0.86846795410333...|       0.0|\n",
            "|          0|     99|            0|            0|      0|25.0|                   0.253| 22|      0|(8,[1,5,6,7],[99....|[2.20181544183468...|[0.90041241973526...|       0.0|\n",
            "|          0|    101|           64|           17|      0|21.0|                   0.252| 21|      0|[0.0,101.0,64.0,1...|[3.67124679517149...|[0.97518664325817...|       0.0|\n",
            "|          0|    101|           76|            0|      0|35.7|                   0.198| 26|      0|[0.0,101.0,76.0,0...|[2.46380009682639...|[0.92156478613939...|       0.0|\n",
            "+-----------+-------+-------------+-------------+-------+----+------------------------+---+-------+--------------------+--------------------+--------------------+----------+\n",
            "only showing top 5 rows\n",
            "\n"
          ]
        }
      ]
    },
    {
      "cell_type": "code",
      "source": [
        "from pyspark.ml.evaluation import MulticlassClassificationEvaluator\n",
        "evaluator = MulticlassClassificationEvaluator()\n",
        "evaluator.setLabelCol(\"Outcome\")"
      ],
      "metadata": {
        "colab": {
          "base_uri": "https://localhost:8080/"
        },
        "id": "AAYxiknRGQ-r",
        "outputId": "1abe84b0-4ad2-413e-b96d-95653346a5e6"
      },
      "execution_count": null,
      "outputs": [
        {
          "output_type": "execute_result",
          "data": {
            "text/plain": [
              "MulticlassClassificationEvaluator_8641b18d6d67"
            ]
          },
          "metadata": {},
          "execution_count": 20
        }
      ]
    },
    {
      "cell_type": "code",
      "source": [
        "evaluator.setPredictionCol(\"prediction\")"
      ],
      "metadata": {
        "colab": {
          "base_uri": "https://localhost:8080/"
        },
        "id": "K9oDD4QfGgFD",
        "outputId": "d25012aa-4b91-40cc-83c7-b79117096e05"
      },
      "execution_count": null,
      "outputs": [
        {
          "output_type": "execute_result",
          "data": {
            "text/plain": [
              "MulticlassClassificationEvaluator_8641b18d6d67"
            ]
          },
          "metadata": {},
          "execution_count": 21
        }
      ]
    },
    {
      "cell_type": "code",
      "source": [
        "evaluator.evaluate(predictions)"
      ],
      "metadata": {
        "id": "Ey6ADVZ-Glu6",
        "outputId": "c34aebe3-15b3-4471-a08c-12ea02ff91d6",
        "colab": {
          "base_uri": "https://localhost:8080/"
        }
      },
      "execution_count": null,
      "outputs": [
        {
          "output_type": "execute_result",
          "data": {
            "text/plain": [
              "0.7641501494574958"
            ]
          },
          "metadata": {},
          "execution_count": 22
        }
      ]
    }
  ]
}